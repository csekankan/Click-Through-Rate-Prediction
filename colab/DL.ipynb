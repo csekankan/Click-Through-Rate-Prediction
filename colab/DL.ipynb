{
  "metadata": {
    "kernelspec": {
      "language": "python",
      "display_name": "Python 3",
      "name": "python3"
    },
    "language_info": {
      "name": "python",
      "version": "3.7.12",
      "mimetype": "text/x-python",
      "codemirror_mode": {
        "name": "ipython",
        "version": 3
      },
      "pygments_lexer": "ipython3",
      "nbconvert_exporter": "python",
      "file_extension": ".py"
    },
    "colab": {
      "provenance": [],
      "collapsed_sections": [
        "o_dCSrv990p-",
        "9isTMvQk-BoZ",
        "1NDHrAlz-IKS"
      ]
    },
    "accelerator": "GPU",
    "gpuClass": "standard"
  },
  "nbformat_minor": 0,
  "nbformat": 4,
  "cells": [
    {
      "cell_type": "code",
      "execution_count": null,
      "metadata": {
        "colab": {
          "base_uri": "https://localhost:8080/"
        },
        "id": "C1r8Sraf7rPj",
        "outputId": "d0365f14-69a7-419b-8784-b87b79abfd1e"
      },
      "outputs": [
        {
          "output_type": "stream",
          "name": "stdout",
          "text": [
            "Looking in indexes: https://pypi.org/simple, https://us-python.pkg.dev/colab-wheels/public/simple/\n",
            "Requirement already satisfied: gdown in /usr/local/lib/python3.9/dist-packages (4.7.1)\n",
            "Requirement already satisfied: six in /usr/local/lib/python3.9/dist-packages (from gdown) (1.16.0)\n",
            "Requirement already satisfied: tqdm in /usr/local/lib/python3.9/dist-packages (from gdown) (4.65.0)\n",
            "Requirement already satisfied: filelock in /usr/local/lib/python3.9/dist-packages (from gdown) (3.10.7)\n",
            "Requirement already satisfied: beautifulsoup4 in /usr/local/lib/python3.9/dist-packages (from gdown) (4.11.2)\n",
            "Requirement already satisfied: requests[socks] in /usr/local/lib/python3.9/dist-packages (from gdown) (2.27.1)\n",
            "Requirement already satisfied: soupsieve>1.2 in /usr/local/lib/python3.9/dist-packages (from beautifulsoup4->gdown) (2.4)\n",
            "Requirement already satisfied: idna<4,>=2.5 in /usr/local/lib/python3.9/dist-packages (from requests[socks]->gdown) (3.4)\n",
            "Requirement already satisfied: certifi>=2017.4.17 in /usr/local/lib/python3.9/dist-packages (from requests[socks]->gdown) (2022.12.7)\n",
            "Requirement already satisfied: urllib3<1.27,>=1.21.1 in /usr/local/lib/python3.9/dist-packages (from requests[socks]->gdown) (1.26.15)\n",
            "Requirement already satisfied: charset-normalizer~=2.0.0 in /usr/local/lib/python3.9/dist-packages (from requests[socks]->gdown) (2.0.12)\n",
            "Requirement already satisfied: PySocks!=1.5.7,>=1.5.6 in /usr/local/lib/python3.9/dist-packages (from requests[socks]->gdown) (1.7.1)\n"
          ]
        }
      ],
      "source": [
        "!pip install --upgrade --no-cache-dir gdown"
      ]
    },
    {
      "cell_type": "code",
      "source": [
        "!pip install -U deepctr-torch"
      ],
      "metadata": {
        "colab": {
          "base_uri": "https://localhost:8080/"
        },
        "id": "2tTFU_8fpUtX",
        "outputId": "61d1dcd7-1018-4a13-e417-737c4ad5bcc7"
      },
      "execution_count": null,
      "outputs": [
        {
          "output_type": "stream",
          "name": "stdout",
          "text": [
            "Looking in indexes: https://pypi.org/simple, https://us-python.pkg.dev/colab-wheels/public/simple/\n",
            "Requirement already satisfied: deepctr-torch in /usr/local/lib/python3.9/dist-packages (0.2.9)\n",
            "Requirement already satisfied: tqdm in /usr/local/lib/python3.9/dist-packages (from deepctr-torch) (4.65.0)\n",
            "Requirement already satisfied: tensorflow in /usr/local/lib/python3.9/dist-packages (from deepctr-torch) (2.11.0)\n",
            "Requirement already satisfied: scikit-learn in /usr/local/lib/python3.9/dist-packages (from deepctr-torch) (1.2.2)\n",
            "Requirement already satisfied: torch>=1.2.0 in /usr/local/lib/python3.9/dist-packages (from deepctr-torch) (1.13.1+cu116)\n",
            "Requirement already satisfied: typing-extensions in /usr/local/lib/python3.9/dist-packages (from torch>=1.2.0->deepctr-torch) (4.5.0)\n",
            "Requirement already satisfied: scipy>=1.3.2 in /usr/local/lib/python3.9/dist-packages (from scikit-learn->deepctr-torch) (1.10.1)\n",
            "Requirement already satisfied: joblib>=1.1.1 in /usr/local/lib/python3.9/dist-packages (from scikit-learn->deepctr-torch) (1.1.1)\n",
            "Requirement already satisfied: numpy>=1.17.3 in /usr/local/lib/python3.9/dist-packages (from scikit-learn->deepctr-torch) (1.22.4)\n",
            "Requirement already satisfied: threadpoolctl>=2.0.0 in /usr/local/lib/python3.9/dist-packages (from scikit-learn->deepctr-torch) (3.1.0)\n",
            "Requirement already satisfied: h5py>=2.9.0 in /usr/local/lib/python3.9/dist-packages (from tensorflow->deepctr-torch) (3.8.0)\n",
            "Requirement already satisfied: tensorflow-estimator<2.12,>=2.11.0 in /usr/local/lib/python3.9/dist-packages (from tensorflow->deepctr-torch) (2.11.0)\n",
            "Requirement already satisfied: grpcio<2.0,>=1.24.3 in /usr/local/lib/python3.9/dist-packages (from tensorflow->deepctr-torch) (1.51.3)\n",
            "Requirement already satisfied: termcolor>=1.1.0 in /usr/local/lib/python3.9/dist-packages (from tensorflow->deepctr-torch) (2.2.0)\n",
            "Requirement already satisfied: packaging in /usr/local/lib/python3.9/dist-packages (from tensorflow->deepctr-torch) (23.0)\n",
            "Requirement already satisfied: google-pasta>=0.1.1 in /usr/local/lib/python3.9/dist-packages (from tensorflow->deepctr-torch) (0.2.0)\n",
            "Requirement already satisfied: keras<2.12,>=2.11.0 in /usr/local/lib/python3.9/dist-packages (from tensorflow->deepctr-torch) (2.11.0)\n",
            "Requirement already satisfied: absl-py>=1.0.0 in /usr/local/lib/python3.9/dist-packages (from tensorflow->deepctr-torch) (1.4.0)\n",
            "Requirement already satisfied: flatbuffers>=2.0 in /usr/local/lib/python3.9/dist-packages (from tensorflow->deepctr-torch) (23.3.3)\n",
            "Requirement already satisfied: astunparse>=1.6.0 in /usr/local/lib/python3.9/dist-packages (from tensorflow->deepctr-torch) (1.6.3)\n",
            "Requirement already satisfied: gast<=0.4.0,>=0.2.1 in /usr/local/lib/python3.9/dist-packages (from tensorflow->deepctr-torch) (0.4.0)\n",
            "Requirement already satisfied: setuptools in /usr/local/lib/python3.9/dist-packages (from tensorflow->deepctr-torch) (67.6.1)\n",
            "Requirement already satisfied: protobuf<3.20,>=3.9.2 in /usr/local/lib/python3.9/dist-packages (from tensorflow->deepctr-torch) (3.19.6)\n",
            "Requirement already satisfied: wrapt>=1.11.0 in /usr/local/lib/python3.9/dist-packages (from tensorflow->deepctr-torch) (1.15.0)\n",
            "Requirement already satisfied: tensorboard<2.12,>=2.11 in /usr/local/lib/python3.9/dist-packages (from tensorflow->deepctr-torch) (2.11.2)\n",
            "Requirement already satisfied: opt-einsum>=2.3.2 in /usr/local/lib/python3.9/dist-packages (from tensorflow->deepctr-torch) (3.3.0)\n",
            "Requirement already satisfied: six>=1.12.0 in /usr/local/lib/python3.9/dist-packages (from tensorflow->deepctr-torch) (1.16.0)\n",
            "Requirement already satisfied: libclang>=13.0.0 in /usr/local/lib/python3.9/dist-packages (from tensorflow->deepctr-torch) (16.0.0)\n",
            "Requirement already satisfied: tensorflow-io-gcs-filesystem>=0.23.1 in /usr/local/lib/python3.9/dist-packages (from tensorflow->deepctr-torch) (0.31.0)\n",
            "Requirement already satisfied: wheel<1.0,>=0.23.0 in /usr/local/lib/python3.9/dist-packages (from astunparse>=1.6.0->tensorflow->deepctr-torch) (0.40.0)\n",
            "Requirement already satisfied: tensorboard-plugin-wit>=1.6.0 in /usr/local/lib/python3.9/dist-packages (from tensorboard<2.12,>=2.11->tensorflow->deepctr-torch) (1.8.1)\n",
            "Requirement already satisfied: markdown>=2.6.8 in /usr/local/lib/python3.9/dist-packages (from tensorboard<2.12,>=2.11->tensorflow->deepctr-torch) (3.4.3)\n",
            "Requirement already satisfied: tensorboard-data-server<0.7.0,>=0.6.0 in /usr/local/lib/python3.9/dist-packages (from tensorboard<2.12,>=2.11->tensorflow->deepctr-torch) (0.6.1)\n",
            "Requirement already satisfied: google-auth<3,>=1.6.3 in /usr/local/lib/python3.9/dist-packages (from tensorboard<2.12,>=2.11->tensorflow->deepctr-torch) (2.16.3)\n",
            "Requirement already satisfied: requests<3,>=2.21.0 in /usr/local/lib/python3.9/dist-packages (from tensorboard<2.12,>=2.11->tensorflow->deepctr-torch) (2.27.1)\n",
            "Requirement already satisfied: werkzeug>=1.0.1 in /usr/local/lib/python3.9/dist-packages (from tensorboard<2.12,>=2.11->tensorflow->deepctr-torch) (2.2.3)\n",
            "Requirement already satisfied: google-auth-oauthlib<0.5,>=0.4.1 in /usr/local/lib/python3.9/dist-packages (from tensorboard<2.12,>=2.11->tensorflow->deepctr-torch) (0.4.6)\n",
            "Requirement already satisfied: rsa<5,>=3.1.4 in /usr/local/lib/python3.9/dist-packages (from google-auth<3,>=1.6.3->tensorboard<2.12,>=2.11->tensorflow->deepctr-torch) (4.9)\n",
            "Requirement already satisfied: cachetools<6.0,>=2.0.0 in /usr/local/lib/python3.9/dist-packages (from google-auth<3,>=1.6.3->tensorboard<2.12,>=2.11->tensorflow->deepctr-torch) (5.3.0)\n",
            "Requirement already satisfied: pyasn1-modules>=0.2.1 in /usr/local/lib/python3.9/dist-packages (from google-auth<3,>=1.6.3->tensorboard<2.12,>=2.11->tensorflow->deepctr-torch) (0.2.8)\n",
            "Requirement already satisfied: requests-oauthlib>=0.7.0 in /usr/local/lib/python3.9/dist-packages (from google-auth-oauthlib<0.5,>=0.4.1->tensorboard<2.12,>=2.11->tensorflow->deepctr-torch) (1.3.1)\n",
            "Requirement already satisfied: importlib-metadata>=4.4 in /usr/local/lib/python3.9/dist-packages (from markdown>=2.6.8->tensorboard<2.12,>=2.11->tensorflow->deepctr-torch) (6.1.0)\n",
            "Requirement already satisfied: certifi>=2017.4.17 in /usr/local/lib/python3.9/dist-packages (from requests<3,>=2.21.0->tensorboard<2.12,>=2.11->tensorflow->deepctr-torch) (2022.12.7)\n",
            "Requirement already satisfied: idna<4,>=2.5 in /usr/local/lib/python3.9/dist-packages (from requests<3,>=2.21.0->tensorboard<2.12,>=2.11->tensorflow->deepctr-torch) (3.4)\n",
            "Requirement already satisfied: urllib3<1.27,>=1.21.1 in /usr/local/lib/python3.9/dist-packages (from requests<3,>=2.21.0->tensorboard<2.12,>=2.11->tensorflow->deepctr-torch) (1.26.15)\n",
            "Requirement already satisfied: charset-normalizer~=2.0.0 in /usr/local/lib/python3.9/dist-packages (from requests<3,>=2.21.0->tensorboard<2.12,>=2.11->tensorflow->deepctr-torch) (2.0.12)\n",
            "Requirement already satisfied: MarkupSafe>=2.1.1 in /usr/local/lib/python3.9/dist-packages (from werkzeug>=1.0.1->tensorboard<2.12,>=2.11->tensorflow->deepctr-torch) (2.1.2)\n",
            "Requirement already satisfied: zipp>=0.5 in /usr/local/lib/python3.9/dist-packages (from importlib-metadata>=4.4->markdown>=2.6.8->tensorboard<2.12,>=2.11->tensorflow->deepctr-torch) (3.15.0)\n",
            "Requirement already satisfied: pyasn1<0.5.0,>=0.4.6 in /usr/local/lib/python3.9/dist-packages (from pyasn1-modules>=0.2.1->google-auth<3,>=1.6.3->tensorboard<2.12,>=2.11->tensorflow->deepctr-torch) (0.4.8)\n",
            "Requirement already satisfied: oauthlib>=3.0.0 in /usr/local/lib/python3.9/dist-packages (from requests-oauthlib>=0.7.0->google-auth-oauthlib<0.5,>=0.4.1->tensorboard<2.12,>=2.11->tensorflow->deepctr-torch) (3.2.2)\n"
          ]
        }
      ]
    },
    {
      "cell_type": "markdown",
      "source": [
        "## Data Loader"
      ],
      "metadata": {
        "id": "IKG5ZkGu-s8-"
      }
    },
    {
      "cell_type": "code",
      "execution_count": null,
      "metadata": {
        "colab": {
          "base_uri": "https://localhost:8080/"
        },
        "id": "tQkDLIxYbz_x",
        "outputId": "4d34de3f-490f-417f-9ae7-8b0e8d966259"
      },
      "outputs": [
        {
          "output_type": "stream",
          "name": "stdout",
          "text": [
            "/usr/local/lib/python3.9/dist-packages/gdown/cli.py:126: FutureWarning: Option `--id` was deprecated in version 4.3.1 and will be removed in 5.0. You don't need to pass it anymore to use a file ID.\n",
            "  warnings.warn(\n",
            "Downloading...\n",
            "From (uriginal): https://drive.google.com/uc?id=1wg5oA66QtwEHqYUHfVzXsY1gtgqs1wJq\n",
            "From (redirected): https://drive.google.com/uc?id=1wg5oA66QtwEHqYUHfVzXsY1gtgqs1wJq&confirm=t&uuid=cd82033e-54a9-490b-bbad-1e5cd2a3da09\n",
            "To: /content/criteo.zip\n",
            "100% 87.9M/87.9M [00:00<00:00, 239MB/s]\n"
          ]
        }
      ],
      "source": [
        "!gdown --id 1wg5oA66QtwEHqYUHfVzXsY1gtgqs1wJq"
      ]
    },
    {
      "cell_type": "code",
      "source": [
        "!unzip -o \"criteo.zip\"  -d  \"/content\""
      ],
      "metadata": {
        "colab": {
          "base_uri": "https://localhost:8080/"
        },
        "id": "i5rmzu3Y_K7E",
        "outputId": "17107fb3-a97b-4e02-9215-c84446cb1ce8"
      },
      "execution_count": null,
      "outputs": [
        {
          "output_type": "stream",
          "name": "stdout",
          "text": [
            "Archive:  criteo.zip\n",
            "  inflating: /content/train_1m.txt   \n"
          ]
        }
      ]
    },
    {
      "cell_type": "code",
      "source": [
        "label='Label'\n",
        "target = [label]"
      ],
      "metadata": {
        "id": "c1y-UhBvk5Ja"
      },
      "execution_count": null,
      "outputs": []
    },
    {
      "cell_type": "code",
      "source": [
        "\n",
        "import numpy as np # linear algebra\n",
        "import pandas as pd # data processing, CSV file I/O (e.g. pd.read_csv)\n"
      ],
      "metadata": {
        "_uuid": "8f2839f25d086af736a60e9eeb907d3b93b6e0e5",
        "_cell_guid": "b1076dfc-b9ad-4769-8c92-a6c4dae69d19",
        "execution": {
          "iopub.status.busy": "2023-03-29T14:43:06.021112Z",
          "iopub.execute_input": "2023-03-29T14:43:06.021643Z",
          "iopub.status.idle": "2023-03-29T14:43:06.031986Z",
          "shell.execute_reply.started": "2023-03-29T14:43:06.021601Z",
          "shell.execute_reply": "2023-03-29T14:43:06.030483Z"
        },
        "trusted": true,
        "id": "jG2PEE5k-s87"
      },
      "execution_count": null,
      "outputs": []
    },
    {
      "cell_type": "code",
      "source": [
        "\n",
        "continue_var = ['I' + str(i) for i in range(1, 14)]\n",
        "cat_features = ['C' + str(i) for i in range(1,27)]\n",
        "col_names_train = ['Label'] + continue_var + cat_features\n",
        "col_names_test = col_names_train[1:]\n",
        "train = pd.read_csv('train_1m.txt', sep='\\t', \n",
        "                     names=col_names_train)\n",
        "\n",
        "# train = pd.DataFrame()\n",
        "# for i, chunk in enumerate(reader): \n",
        "   \n",
        "#     train = pd.concat([train, chunk.sample(frac=1, replace=False, random_state=911)], axis=0)  \n",
        "# train.head(1)"
      ],
      "metadata": {
        "execution": {
          "iopub.status.busy": "2023-03-29T14:43:06.035985Z",
          "iopub.execute_input": "2023-03-29T14:43:06.036603Z",
          "iopub.status.idle": "2023-03-29T14:43:14.152882Z",
          "shell.execute_reply.started": "2023-03-29T14:43:06.036542Z",
          "shell.execute_reply": "2023-03-29T14:43:14.151596Z"
        },
        "trusted": true,
        "id": "X1yRs6Y1-s89"
      },
      "execution_count": null,
      "outputs": []
    },
    {
      "cell_type": "code",
      "source": [
        "train.shape"
      ],
      "metadata": {
        "colab": {
          "base_uri": "https://localhost:8080/"
        },
        "id": "4dF-2VJTxdbe",
        "outputId": "0caf4a08-7539-4381-e451-2660c93684c6"
      },
      "execution_count": null,
      "outputs": [
        {
          "output_type": "execute_result",
          "data": {
            "text/plain": [
              "(1000000, 40)"
            ]
          },
          "metadata": {},
          "execution_count": 35
        }
      ]
    },
    {
      "cell_type": "code",
      "source": [
        "fill_mean = lambda x: x.fillna(x.mean())\n",
        "\n",
        "for col in continue_var:\n",
        "    train[col] = train[col].fillna(train[col].mean())\n",
        "    train[col] = train[col].astype('float64')\n",
        "train = train.fillna('-1', )\n"
      ],
      "metadata": {
        "execution": {
          "iopub.status.busy": "2023-03-29T14:43:39.097651Z",
          "iopub.execute_input": "2023-03-29T14:43:39.098569Z",
          "iopub.status.idle": "2023-03-29T14:43:39.329319Z",
          "shell.execute_reply.started": "2023-03-29T14:43:39.098509Z",
          "shell.execute_reply": "2023-03-29T14:43:39.327673Z"
        },
        "trusted": true,
        "id": "f1axUfMX-s8_"
      },
      "execution_count": null,
      "outputs": []
    },
    {
      "cell_type": "code",
      "source": [
        "from sklearn.preprocessing import LabelEncoder,MinMaxScaler\n",
        "from sklearn.preprocessing import OneHotEncoder\n",
        "\n",
        "for c in cat_features:\n",
        "    le = LabelEncoder()\n",
        "    le.fit(train[c])\n",
        "    train[c] = le.transform(train[c])\n",
        "# for i in cat_features:\n",
        "#   data = pd.get_dummies(data, prefix=[i], columns = [i])\n",
        "\n",
        "# ## EDA\n",
        "\n",
        "classes=list(train[label].unique())\n",
        "classes\n",
        "\n",
        "classes = pd.value_counts(train[label], sort = True)\n"
      ],
      "metadata": {
        "id": "CkvWH-UEkrcB"
      },
      "execution_count": null,
      "outputs": []
    },
    {
      "cell_type": "code",
      "source": [
        "# for c in cat_features:\n",
        "#   if(len(list(train[c].unique()))<=20):\n",
        "#    train = pd.get_dummies(train, prefix=[c], columns = [c])\n"
      ],
      "metadata": {
        "id": "WWl0gwck5twr"
      },
      "execution_count": null,
      "outputs": []
    },
    {
      "cell_type": "code",
      "source": [
        "# cat_features=[]\n",
        "# for i in list(train.columns):\n",
        "#   if i[0]=='C':\n",
        "#     cat_features.append(i)\n"
      ],
      "metadata": {
        "id": "Z02uqHnf64dR"
      },
      "execution_count": null,
      "outputs": []
    },
    {
      "cell_type": "code",
      "source": [
        "# mms = MinMaxScaler(feature_range=(0, 1))\n",
        "# train[continue_var] = mms.fit_transform(train[continue_var])"
      ],
      "metadata": {
        "id": "IReT-JTouvMo"
      },
      "execution_count": null,
      "outputs": []
    },
    {
      "cell_type": "markdown",
      "source": [
        "## Train Data preprocessing"
      ],
      "metadata": {
        "id": "duOQ2bUUFTOw"
      }
    },
    {
      "cell_type": "code",
      "source": [
        "import math\n",
        "from sklearn.preprocessing import LabelEncoder ,MinMaxScaler\n",
        "from sklearn.model_selection import train_test_split\n",
        "from sklearn import metrics\n",
        "from sklearn.feature_selection import RFE\n",
        "from sklearn.model_selection import GridSearchCV\n"
      ],
      "metadata": {
        "id": "G-zmvta6pcIk"
      },
      "execution_count": null,
      "outputs": []
    },
    {
      "cell_type": "code",
      "source": [
        "from deepctr_torch.inputs import SparseFeat, get_feature_names,DenseFeat\n",
        "from deepctr_torch.models import DeepFM\n",
        "import torch"
      ],
      "metadata": {
        "id": "b6Q6wC5VpnKU"
      },
      "execution_count": null,
      "outputs": []
    },
    {
      "cell_type": "code",
      "source": [
        "fixlen_feature_columns = [SparseFeat(feat, vocabulary_size=train[feat].max() + 1, embedding_dim=15)\n",
        "                              for feat in cat_features] + [DenseFeat(feat, 1, )\n",
        "                                                              for feat in continue_var]"
      ],
      "metadata": {
        "id": "7NZ8qIJYqllZ"
      },
      "execution_count": null,
      "outputs": []
    },
    {
      "cell_type": "code",
      "source": [
        "dnn_feature_columns = fixlen_feature_columns\n",
        "linear_feature_columns = fixlen_feature_columns\n",
        "\n",
        "feature_names = get_feature_names(\n",
        "        linear_feature_columns + dnn_feature_columns)\n",
        "feature_names"
      ],
      "metadata": {
        "colab": {
          "base_uri": "https://localhost:8080/"
        },
        "id": "A57vnzK-q0sc",
        "outputId": "aafc58f9-9eca-4ae4-a804-30db05376122"
      },
      "execution_count": null,
      "outputs": [
        {
          "output_type": "execute_result",
          "data": {
            "text/plain": [
              "['C1',\n",
              " 'C2',\n",
              " 'C3',\n",
              " 'C4',\n",
              " 'C5',\n",
              " 'C6',\n",
              " 'C7',\n",
              " 'C8',\n",
              " 'C9',\n",
              " 'C10',\n",
              " 'C11',\n",
              " 'C12',\n",
              " 'C13',\n",
              " 'C14',\n",
              " 'C15',\n",
              " 'C16',\n",
              " 'C17',\n",
              " 'C18',\n",
              " 'C19',\n",
              " 'C20',\n",
              " 'C21',\n",
              " 'C22',\n",
              " 'C23',\n",
              " 'C24',\n",
              " 'C25',\n",
              " 'C26',\n",
              " 'I1',\n",
              " 'I2',\n",
              " 'I3',\n",
              " 'I4',\n",
              " 'I5',\n",
              " 'I6',\n",
              " 'I7',\n",
              " 'I8',\n",
              " 'I9',\n",
              " 'I10',\n",
              " 'I11',\n",
              " 'I12',\n",
              " 'I13']"
            ]
          },
          "metadata": {},
          "execution_count": 44
        }
      ]
    },
    {
      "cell_type": "code",
      "source": [
        "\n",
        "train, test = train_test_split(train, test_size=0.2)\n",
        "train_model_input = {name: train[name] for name in feature_names}\n",
        "test_model_input = {name: test[name] for name in feature_names}\n",
        "train"
      ],
      "metadata": {
        "execution": {
          "iopub.status.busy": "2023-03-29T14:43:43.999766Z",
          "iopub.execute_input": "2023-03-29T14:43:44.000675Z",
          "iopub.status.idle": "2023-03-29T14:43:44.278037Z",
          "shell.execute_reply.started": "2023-03-29T14:43:44.000618Z",
          "shell.execute_reply": "2023-03-29T14:43:44.276731Z"
        },
        "trusted": true,
        "id": "pBhniRct-s9A",
        "colab": {
          "base_uri": "https://localhost:8080/",
          "height": 423
        },
        "outputId": "fadb91a5-4f84-4585-e7ee-143b28e9684a"
      },
      "execution_count": null,
      "outputs": [
        {
          "output_type": "execute_result",
          "data": {
            "text/plain": [
              "        Label       I1     I2         I3        I4       I5          I6    I7  \\\n",
              "884610      0   0.0000    2.0  12.000000  12.00000   5319.0  203.000000   9.0   \n",
              "114145      0   1.0000   -1.0  21.094269   6.95427   1140.0    5.000000   1.0   \n",
              "350124      0   0.0000    0.0  25.000000   2.00000  10529.0  268.000000  70.0   \n",
              "899978      0  15.0000   13.0   4.000000   4.00000   1012.0    8.000000  15.0   \n",
              "303133      1   1.0000   31.0  21.094269  12.00000      1.0    1.000000  10.0   \n",
              "...       ...      ...    ...        ...       ...      ...         ...   ...   \n",
              "784218      1   3.2384    1.0   2.000000  10.00000   2842.0  428.000000  12.0   \n",
              "64284       1  13.0000   27.0  14.000000  10.00000     10.0   10.000000  18.0   \n",
              "281520      0   1.0000  300.0  21.094269   1.00000    616.0    1.000000   1.0   \n",
              "639713      0   0.0000    0.0  17.000000   8.00000   3470.0   29.000000  11.0   \n",
              "50212       0   3.2384   15.0   8.000000   3.00000   1317.0  116.761653   0.0   \n",
              "\n",
              "          I8     I9  ...  C17   C18  C19  C20     C21  C22  C23    C24  C25  \\\n",
              "884610  41.0  285.0  ...    9  3631    0    0   32570    0    2  25530    0   \n",
              "114145   7.0   11.0  ...    9  2413    0    0   12153   10    4  34674    0   \n",
              "350124   5.0  202.0  ...    0  2145  227    2  192389    0    4  26534   11   \n",
              "899978   8.0    8.0  ...    9  3723    0    0  212918   10    2   3766    0   \n",
              "303133  12.0  124.0  ...    6  3539    0    0  217489   12    5  23031    0   \n",
              "...      ...    ...  ...  ...   ...  ...  ...     ...  ...  ...    ...  ...   \n",
              "784218  45.0  310.0  ...    9  3424    0    0   74315   10    4  35789    0   \n",
              "64284    8.0   32.0  ...    9  2071  742    2   66244    0   10  25693   41   \n",
              "281520   1.0    1.0  ...    8   615    0    0  107528    0    2  28798    0   \n",
              "639713   8.0   26.0  ...    9  1387  227    2  136805    0    2   3766   58   \n",
              "50212    4.0    4.0  ...    1  2893   71    3  154320    7    2  23224    1   \n",
              "\n",
              "          C26  \n",
              "884610      0  \n",
              "114145      0  \n",
              "350124   1363  \n",
              "899978      0  \n",
              "303133      0  \n",
              "...       ...  \n",
              "784218      0  \n",
              "64284    9121  \n",
              "281520      0  \n",
              "639713  16828  \n",
              "50212    9950  \n",
              "\n",
              "[800000 rows x 40 columns]"
            ],
            "text/html": [
              "\n",
              "  <div id=\"df-9b4b25ea-9262-4243-a9ed-85ffac03d3b6\">\n",
              "    <div class=\"colab-df-container\">\n",
              "      <div>\n",
              "<style scoped>\n",
              "    .dataframe tbody tr th:only-of-type {\n",
              "        vertical-align: middle;\n",
              "    }\n",
              "\n",
              "    .dataframe tbody tr th {\n",
              "        vertical-align: top;\n",
              "    }\n",
              "\n",
              "    .dataframe thead th {\n",
              "        text-align: right;\n",
              "    }\n",
              "</style>\n",
              "<table border=\"1\" class=\"dataframe\">\n",
              "  <thead>\n",
              "    <tr style=\"text-align: right;\">\n",
              "      <th></th>\n",
              "      <th>Label</th>\n",
              "      <th>I1</th>\n",
              "      <th>I2</th>\n",
              "      <th>I3</th>\n",
              "      <th>I4</th>\n",
              "      <th>I5</th>\n",
              "      <th>I6</th>\n",
              "      <th>I7</th>\n",
              "      <th>I8</th>\n",
              "      <th>I9</th>\n",
              "      <th>...</th>\n",
              "      <th>C17</th>\n",
              "      <th>C18</th>\n",
              "      <th>C19</th>\n",
              "      <th>C20</th>\n",
              "      <th>C21</th>\n",
              "      <th>C22</th>\n",
              "      <th>C23</th>\n",
              "      <th>C24</th>\n",
              "      <th>C25</th>\n",
              "      <th>C26</th>\n",
              "    </tr>\n",
              "  </thead>\n",
              "  <tbody>\n",
              "    <tr>\n",
              "      <th>884610</th>\n",
              "      <td>0</td>\n",
              "      <td>0.0000</td>\n",
              "      <td>2.0</td>\n",
              "      <td>12.000000</td>\n",
              "      <td>12.00000</td>\n",
              "      <td>5319.0</td>\n",
              "      <td>203.000000</td>\n",
              "      <td>9.0</td>\n",
              "      <td>41.0</td>\n",
              "      <td>285.0</td>\n",
              "      <td>...</td>\n",
              "      <td>9</td>\n",
              "      <td>3631</td>\n",
              "      <td>0</td>\n",
              "      <td>0</td>\n",
              "      <td>32570</td>\n",
              "      <td>0</td>\n",
              "      <td>2</td>\n",
              "      <td>25530</td>\n",
              "      <td>0</td>\n",
              "      <td>0</td>\n",
              "    </tr>\n",
              "    <tr>\n",
              "      <th>114145</th>\n",
              "      <td>0</td>\n",
              "      <td>1.0000</td>\n",
              "      <td>-1.0</td>\n",
              "      <td>21.094269</td>\n",
              "      <td>6.95427</td>\n",
              "      <td>1140.0</td>\n",
              "      <td>5.000000</td>\n",
              "      <td>1.0</td>\n",
              "      <td>7.0</td>\n",
              "      <td>11.0</td>\n",
              "      <td>...</td>\n",
              "      <td>9</td>\n",
              "      <td>2413</td>\n",
              "      <td>0</td>\n",
              "      <td>0</td>\n",
              "      <td>12153</td>\n",
              "      <td>10</td>\n",
              "      <td>4</td>\n",
              "      <td>34674</td>\n",
              "      <td>0</td>\n",
              "      <td>0</td>\n",
              "    </tr>\n",
              "    <tr>\n",
              "      <th>350124</th>\n",
              "      <td>0</td>\n",
              "      <td>0.0000</td>\n",
              "      <td>0.0</td>\n",
              "      <td>25.000000</td>\n",
              "      <td>2.00000</td>\n",
              "      <td>10529.0</td>\n",
              "      <td>268.000000</td>\n",
              "      <td>70.0</td>\n",
              "      <td>5.0</td>\n",
              "      <td>202.0</td>\n",
              "      <td>...</td>\n",
              "      <td>0</td>\n",
              "      <td>2145</td>\n",
              "      <td>227</td>\n",
              "      <td>2</td>\n",
              "      <td>192389</td>\n",
              "      <td>0</td>\n",
              "      <td>4</td>\n",
              "      <td>26534</td>\n",
              "      <td>11</td>\n",
              "      <td>1363</td>\n",
              "    </tr>\n",
              "    <tr>\n",
              "      <th>899978</th>\n",
              "      <td>0</td>\n",
              "      <td>15.0000</td>\n",
              "      <td>13.0</td>\n",
              "      <td>4.000000</td>\n",
              "      <td>4.00000</td>\n",
              "      <td>1012.0</td>\n",
              "      <td>8.000000</td>\n",
              "      <td>15.0</td>\n",
              "      <td>8.0</td>\n",
              "      <td>8.0</td>\n",
              "      <td>...</td>\n",
              "      <td>9</td>\n",
              "      <td>3723</td>\n",
              "      <td>0</td>\n",
              "      <td>0</td>\n",
              "      <td>212918</td>\n",
              "      <td>10</td>\n",
              "      <td>2</td>\n",
              "      <td>3766</td>\n",
              "      <td>0</td>\n",
              "      <td>0</td>\n",
              "    </tr>\n",
              "    <tr>\n",
              "      <th>303133</th>\n",
              "      <td>1</td>\n",
              "      <td>1.0000</td>\n",
              "      <td>31.0</td>\n",
              "      <td>21.094269</td>\n",
              "      <td>12.00000</td>\n",
              "      <td>1.0</td>\n",
              "      <td>1.000000</td>\n",
              "      <td>10.0</td>\n",
              "      <td>12.0</td>\n",
              "      <td>124.0</td>\n",
              "      <td>...</td>\n",
              "      <td>6</td>\n",
              "      <td>3539</td>\n",
              "      <td>0</td>\n",
              "      <td>0</td>\n",
              "      <td>217489</td>\n",
              "      <td>12</td>\n",
              "      <td>5</td>\n",
              "      <td>23031</td>\n",
              "      <td>0</td>\n",
              "      <td>0</td>\n",
              "    </tr>\n",
              "    <tr>\n",
              "      <th>...</th>\n",
              "      <td>...</td>\n",
              "      <td>...</td>\n",
              "      <td>...</td>\n",
              "      <td>...</td>\n",
              "      <td>...</td>\n",
              "      <td>...</td>\n",
              "      <td>...</td>\n",
              "      <td>...</td>\n",
              "      <td>...</td>\n",
              "      <td>...</td>\n",
              "      <td>...</td>\n",
              "      <td>...</td>\n",
              "      <td>...</td>\n",
              "      <td>...</td>\n",
              "      <td>...</td>\n",
              "      <td>...</td>\n",
              "      <td>...</td>\n",
              "      <td>...</td>\n",
              "      <td>...</td>\n",
              "      <td>...</td>\n",
              "      <td>...</td>\n",
              "    </tr>\n",
              "    <tr>\n",
              "      <th>784218</th>\n",
              "      <td>1</td>\n",
              "      <td>3.2384</td>\n",
              "      <td>1.0</td>\n",
              "      <td>2.000000</td>\n",
              "      <td>10.00000</td>\n",
              "      <td>2842.0</td>\n",
              "      <td>428.000000</td>\n",
              "      <td>12.0</td>\n",
              "      <td>45.0</td>\n",
              "      <td>310.0</td>\n",
              "      <td>...</td>\n",
              "      <td>9</td>\n",
              "      <td>3424</td>\n",
              "      <td>0</td>\n",
              "      <td>0</td>\n",
              "      <td>74315</td>\n",
              "      <td>10</td>\n",
              "      <td>4</td>\n",
              "      <td>35789</td>\n",
              "      <td>0</td>\n",
              "      <td>0</td>\n",
              "    </tr>\n",
              "    <tr>\n",
              "      <th>64284</th>\n",
              "      <td>1</td>\n",
              "      <td>13.0000</td>\n",
              "      <td>27.0</td>\n",
              "      <td>14.000000</td>\n",
              "      <td>10.00000</td>\n",
              "      <td>10.0</td>\n",
              "      <td>10.000000</td>\n",
              "      <td>18.0</td>\n",
              "      <td>8.0</td>\n",
              "      <td>32.0</td>\n",
              "      <td>...</td>\n",
              "      <td>9</td>\n",
              "      <td>2071</td>\n",
              "      <td>742</td>\n",
              "      <td>2</td>\n",
              "      <td>66244</td>\n",
              "      <td>0</td>\n",
              "      <td>10</td>\n",
              "      <td>25693</td>\n",
              "      <td>41</td>\n",
              "      <td>9121</td>\n",
              "    </tr>\n",
              "    <tr>\n",
              "      <th>281520</th>\n",
              "      <td>0</td>\n",
              "      <td>1.0000</td>\n",
              "      <td>300.0</td>\n",
              "      <td>21.094269</td>\n",
              "      <td>1.00000</td>\n",
              "      <td>616.0</td>\n",
              "      <td>1.000000</td>\n",
              "      <td>1.0</td>\n",
              "      <td>1.0</td>\n",
              "      <td>1.0</td>\n",
              "      <td>...</td>\n",
              "      <td>8</td>\n",
              "      <td>615</td>\n",
              "      <td>0</td>\n",
              "      <td>0</td>\n",
              "      <td>107528</td>\n",
              "      <td>0</td>\n",
              "      <td>2</td>\n",
              "      <td>28798</td>\n",
              "      <td>0</td>\n",
              "      <td>0</td>\n",
              "    </tr>\n",
              "    <tr>\n",
              "      <th>639713</th>\n",
              "      <td>0</td>\n",
              "      <td>0.0000</td>\n",
              "      <td>0.0</td>\n",
              "      <td>17.000000</td>\n",
              "      <td>8.00000</td>\n",
              "      <td>3470.0</td>\n",
              "      <td>29.000000</td>\n",
              "      <td>11.0</td>\n",
              "      <td>8.0</td>\n",
              "      <td>26.0</td>\n",
              "      <td>...</td>\n",
              "      <td>9</td>\n",
              "      <td>1387</td>\n",
              "      <td>227</td>\n",
              "      <td>2</td>\n",
              "      <td>136805</td>\n",
              "      <td>0</td>\n",
              "      <td>2</td>\n",
              "      <td>3766</td>\n",
              "      <td>58</td>\n",
              "      <td>16828</td>\n",
              "    </tr>\n",
              "    <tr>\n",
              "      <th>50212</th>\n",
              "      <td>0</td>\n",
              "      <td>3.2384</td>\n",
              "      <td>15.0</td>\n",
              "      <td>8.000000</td>\n",
              "      <td>3.00000</td>\n",
              "      <td>1317.0</td>\n",
              "      <td>116.761653</td>\n",
              "      <td>0.0</td>\n",
              "      <td>4.0</td>\n",
              "      <td>4.0</td>\n",
              "      <td>...</td>\n",
              "      <td>1</td>\n",
              "      <td>2893</td>\n",
              "      <td>71</td>\n",
              "      <td>3</td>\n",
              "      <td>154320</td>\n",
              "      <td>7</td>\n",
              "      <td>2</td>\n",
              "      <td>23224</td>\n",
              "      <td>1</td>\n",
              "      <td>9950</td>\n",
              "    </tr>\n",
              "  </tbody>\n",
              "</table>\n",
              "<p>800000 rows × 40 columns</p>\n",
              "</div>\n",
              "      <button class=\"colab-df-convert\" onclick=\"convertToInteractive('df-9b4b25ea-9262-4243-a9ed-85ffac03d3b6')\"\n",
              "              title=\"Convert this dataframe to an interactive table.\"\n",
              "              style=\"display:none;\">\n",
              "        \n",
              "  <svg xmlns=\"http://www.w3.org/2000/svg\" height=\"24px\"viewBox=\"0 0 24 24\"\n",
              "       width=\"24px\">\n",
              "    <path d=\"M0 0h24v24H0V0z\" fill=\"none\"/>\n",
              "    <path d=\"M18.56 5.44l.94 2.06.94-2.06 2.06-.94-2.06-.94-.94-2.06-.94 2.06-2.06.94zm-11 1L8.5 8.5l.94-2.06 2.06-.94-2.06-.94L8.5 2.5l-.94 2.06-2.06.94zm10 10l.94 2.06.94-2.06 2.06-.94-2.06-.94-.94-2.06-.94 2.06-2.06.94z\"/><path d=\"M17.41 7.96l-1.37-1.37c-.4-.4-.92-.59-1.43-.59-.52 0-1.04.2-1.43.59L10.3 9.45l-7.72 7.72c-.78.78-.78 2.05 0 2.83L4 21.41c.39.39.9.59 1.41.59.51 0 1.02-.2 1.41-.59l7.78-7.78 2.81-2.81c.8-.78.8-2.07 0-2.86zM5.41 20L4 18.59l7.72-7.72 1.47 1.35L5.41 20z\"/>\n",
              "  </svg>\n",
              "      </button>\n",
              "      \n",
              "  <style>\n",
              "    .colab-df-container {\n",
              "      display:flex;\n",
              "      flex-wrap:wrap;\n",
              "      gap: 12px;\n",
              "    }\n",
              "\n",
              "    .colab-df-convert {\n",
              "      background-color: #E8F0FE;\n",
              "      border: none;\n",
              "      border-radius: 50%;\n",
              "      cursor: pointer;\n",
              "      display: none;\n",
              "      fill: #1967D2;\n",
              "      height: 32px;\n",
              "      padding: 0 0 0 0;\n",
              "      width: 32px;\n",
              "    }\n",
              "\n",
              "    .colab-df-convert:hover {\n",
              "      background-color: #E2EBFA;\n",
              "      box-shadow: 0px 1px 2px rgba(60, 64, 67, 0.3), 0px 1px 3px 1px rgba(60, 64, 67, 0.15);\n",
              "      fill: #174EA6;\n",
              "    }\n",
              "\n",
              "    [theme=dark] .colab-df-convert {\n",
              "      background-color: #3B4455;\n",
              "      fill: #D2E3FC;\n",
              "    }\n",
              "\n",
              "    [theme=dark] .colab-df-convert:hover {\n",
              "      background-color: #434B5C;\n",
              "      box-shadow: 0px 1px 3px 1px rgba(0, 0, 0, 0.15);\n",
              "      filter: drop-shadow(0px 1px 2px rgba(0, 0, 0, 0.3));\n",
              "      fill: #FFFFFF;\n",
              "    }\n",
              "  </style>\n",
              "\n",
              "      <script>\n",
              "        const buttonEl =\n",
              "          document.querySelector('#df-9b4b25ea-9262-4243-a9ed-85ffac03d3b6 button.colab-df-convert');\n",
              "        buttonEl.style.display =\n",
              "          google.colab.kernel.accessAllowed ? 'block' : 'none';\n",
              "\n",
              "        async function convertToInteractive(key) {\n",
              "          const element = document.querySelector('#df-9b4b25ea-9262-4243-a9ed-85ffac03d3b6');\n",
              "          const dataTable =\n",
              "            await google.colab.kernel.invokeFunction('convertToInteractive',\n",
              "                                                     [key], {});\n",
              "          if (!dataTable) return;\n",
              "\n",
              "          const docLinkHtml = 'Like what you see? Visit the ' +\n",
              "            '<a target=\"_blank\" href=https://colab.research.google.com/notebooks/data_table.ipynb>data table notebook</a>'\n",
              "            + ' to learn more about interactive tables.';\n",
              "          element.innerHTML = '';\n",
              "          dataTable['output_type'] = 'display_data';\n",
              "          await google.colab.output.renderOutput(dataTable, element);\n",
              "          const docLink = document.createElement('div');\n",
              "          docLink.innerHTML = docLinkHtml;\n",
              "          element.appendChild(docLink);\n",
              "        }\n",
              "      </script>\n",
              "    </div>\n",
              "  </div>\n",
              "  "
            ]
          },
          "metadata": {},
          "execution_count": 45
        }
      ]
    },
    {
      "cell_type": "code",
      "source": [
        "\n",
        "device = 'cpu'\n",
        "use_cuda = True\n",
        "if use_cuda and torch.cuda.is_available():\n",
        "        print('cuda ready...')\n",
        "        device = 'cuda:0'"
      ],
      "metadata": {
        "colab": {
          "base_uri": "https://localhost:8080/"
        },
        "id": "Gmkq3G9UrAyF",
        "outputId": "26682de2-36bf-44d9-86d6-3a1199e6f0a9"
      },
      "execution_count": null,
      "outputs": [
        {
          "output_type": "stream",
          "name": "stdout",
          "text": [
            "cuda ready...\n"
          ]
        }
      ]
    },
    {
      "cell_type": "markdown",
      "source": [
        "## DEEPFM"
      ],
      "metadata": {
        "id": "IkQzXZP1dud8"
      }
    },
    {
      "cell_type": "code",
      "source": [
        "\n",
        "model = DeepFM(linear_feature_columns=linear_feature_columns, dnn_feature_columns=dnn_feature_columns,\n",
        "                   task='binary',dnn_hidden_units=(512,128, 512,256),use_fm=True,  l2_reg_linear=0.1,\n",
        "                   l2_reg_embedding=1e-1,  dnn_use_bn=True,device=device,dnn_activation='sigmoid')\n",
        "model.compile(\"adagrad\", \"binary_crossentropy\",\n",
        "                  metrics=[\"binary_crossentropy\", \"auc\"], )\n",
        "history = model.fit(train_model_input, train[target].values, batch_size=2024, epochs=20, verbose=2,\n",
        "                        validation_split=0.15)"
      ],
      "metadata": {
        "colab": {
          "base_uri": "https://localhost:8080/"
        },
        "id": "DWxI2xAEq9EO",
        "outputId": "de73557a-4722-4d25-9157-822306c63de7"
      },
      "execution_count": null,
      "outputs": [
        {
          "output_type": "stream",
          "name": "stdout",
          "text": [
            "cuda:0\n",
            "Train on 680000 samples, validate on 120000 samples, 336 steps per epoch\n",
            "Epoch 1/20\n",
            "17s - loss:  3.1998 - binary_crossentropy:  2.0955 - auc:  0.6750 - val_binary_crossentropy:  0.6618 - val_auc:  0.7142\n",
            "Epoch 2/20\n",
            "17s - loss:  1.9809 - binary_crossentropy:  1.4917 - auc:  0.7065 - val_binary_crossentropy:  1.9272 - val_auc:  0.6828\n",
            "Epoch 3/20\n",
            "16s - loss:  1.6031 - binary_crossentropy:  1.2705 - auc:  0.7206 - val_binary_crossentropy:  0.8492 - val_auc:  0.7217\n",
            "Epoch 4/20\n",
            "17s - loss:  1.2662 - binary_crossentropy:  1.0415 - auc:  0.7361 - val_binary_crossentropy:  1.3934 - val_auc:  0.6986\n",
            "Epoch 5/20\n",
            "17s - loss:  1.1834 - binary_crossentropy:  0.9821 - auc:  0.7428 - val_binary_crossentropy:  1.2505 - val_auc:  0.7048\n",
            "Epoch 6/20\n",
            "17s - loss:  1.0664 - binary_crossentropy:  0.8996 - auc:  0.7492 - val_binary_crossentropy:  1.6575 - val_auc:  0.6923\n",
            "Epoch 7/20\n",
            "17s - loss:  0.9733 - binary_crossentropy:  0.8294 - auc:  0.7572 - val_binary_crossentropy:  0.9239 - val_auc:  0.7194\n",
            "Epoch 8/20\n",
            "16s - loss:  0.9626 - binary_crossentropy:  0.8239 - auc:  0.7592 - val_binary_crossentropy:  0.5305 - val_auc:  0.7410\n",
            "Epoch 9/20\n",
            "17s - loss:  0.8584 - binary_crossentropy:  0.7445 - auc:  0.7671 - val_binary_crossentropy:  0.6310 - val_auc:  0.7101\n",
            "Epoch 10/20\n",
            "17s - loss:  0.8328 - binary_crossentropy:  0.7278 - auc:  0.7706 - val_binary_crossentropy:  0.5827 - val_auc:  0.7496\n",
            "Epoch 11/20\n",
            "17s - loss:  0.7926 - binary_crossentropy:  0.6954 - auc:  0.7755 - val_binary_crossentropy:  0.7996 - val_auc:  0.7265\n",
            "Epoch 12/20\n",
            "17s - loss:  0.7657 - binary_crossentropy:  0.6733 - auc:  0.7783 - val_binary_crossentropy:  0.5074 - val_auc:  0.7584\n",
            "Epoch 13/20\n",
            "16s - loss:  0.7147 - binary_crossentropy:  0.6346 - auc:  0.7847 - val_binary_crossentropy:  0.9246 - val_auc:  0.6829\n",
            "Epoch 14/20\n",
            "17s - loss:  0.7425 - binary_crossentropy:  0.6528 - auc:  0.7838 - val_binary_crossentropy:  0.5147 - val_auc:  0.7619\n",
            "Epoch 15/20\n",
            "17s - loss:  0.7205 - binary_crossentropy:  0.6401 - auc:  0.7858 - val_binary_crossentropy:  0.8884 - val_auc:  0.7228\n",
            "Epoch 16/20\n",
            "17s - loss:  0.7218 - binary_crossentropy:  0.6401 - auc:  0.7867 - val_binary_crossentropy:  0.4983 - val_auc:  0.7607\n",
            "Epoch 17/20\n",
            "17s - loss:  0.6502 - binary_crossentropy:  0.5819 - auc:  0.7964 - val_binary_crossentropy:  0.5461 - val_auc:  0.7588\n",
            "Epoch 18/20\n",
            "17s - loss:  0.6797 - binary_crossentropy:  0.6045 - auc:  0.7941 - val_binary_crossentropy:  0.5641 - val_auc:  0.7548\n",
            "Epoch 19/20\n",
            "17s - loss:  0.6718 - binary_crossentropy:  0.6000 - auc:  0.7954 - val_binary_crossentropy:  0.5648 - val_auc:  0.7543\n",
            "Epoch 20/20\n",
            "16s - loss:  0.6680 - binary_crossentropy:  0.5931 - auc:  0.7972 - val_binary_crossentropy:  0.5917 - val_auc:  0.7498\n"
          ]
        }
      ]
    },
    {
      "cell_type": "code",
      "source": [
        "from sklearn.metrics import log_loss, roc_auc_score,accuracy_score\n",
        "from sklearn.metrics import f1_score\n",
        "from sklearn.metrics import cohen_kappa_score\n",
        "from sklearn.metrics import roc_auc_score,roc_curve\n",
        "import statsmodels.api as sm\n",
        "from sklearn.metrics import precision_score,recall_score\n",
        "pred_ans = model.predict(test_model_input, 256)\n",
        "ypred=[]\n",
        "for i in pred_ans:\n",
        "    ypred.append(round(i[0]))\n",
        "print(\"\")\n",
        "print(\"test LogLoss\", round(log_loss(test[target].values, pred_ans), 4))\n",
        "print(\"test roc_auc_score\", round(roc_auc_score(test[target].values, pred_ans), 4))\n",
        "print(\"test f1 score\", round(f1_score(test[target].values,ypred), 4))\n",
        "print(\"test precision score\", round(precision_score(test[target].values,ypred), 4))\n",
        "print(\"test recall score\", round(recall_score(test[target].values,ypred), 4))\n",
        "print(\"test accuracy score\", round(accuracy_score(test[target].values,ypred), 4))"
      ],
      "metadata": {
        "colab": {
          "base_uri": "https://localhost:8080/"
        },
        "id": "LTVM2DCkrKQZ",
        "outputId": "a2f08aab-5e70-4416-c212-95b2e0f556b0"
      },
      "execution_count": null,
      "outputs": [
        {
          "output_type": "stream",
          "name": "stdout",
          "text": [
            "\n",
            "test LogLoss 0.5897\n",
            "test roc_auc_score 0.7482\n",
            "test f1 score 0.4105\n",
            "test precision score 0.619\n",
            "test recall score 0.307\n",
            "test accuracy score 0.7755\n"
          ]
        }
      ]
    },
    {
      "cell_type": "markdown",
      "source": [
        "## xDeepFM"
      ],
      "metadata": {
        "id": "o_dCSrv990p-"
      }
    },
    {
      "cell_type": "code",
      "source": [
        "from deepctr_torch.models import xDeepFM\n",
        "model =  xDeepFM(linear_feature_columns=linear_feature_columns, dnn_feature_columns=dnn_feature_columns,\n",
        "                   task='binary',dnn_hidden_units=(512,128, 512,256),  l2_reg_linear=0.1,\n",
        "                   l2_reg_embedding=1e-1,  dnn_use_bn=True,device=device,dnn_activation='sigmoid')\n",
        "model.compile(\"adagrad\", \"binary_crossentropy\",\n",
        "                  metrics=[\"binary_crossentropy\", \"auc\"], )\n",
        "history = model.fit(train_model_input, train[target].values, batch_size=2024, epochs=20, verbose=2,\n",
        "                        validation_split=0.15)"
      ],
      "metadata": {
        "colab": {
          "base_uri": "https://localhost:8080/"
        },
        "outputId": "73c98880-e7b4-47d7-bb92-2571e8e6db33",
        "id": "IflxxhlT90p-"
      },
      "execution_count": null,
      "outputs": [
        {
          "output_type": "stream",
          "name": "stdout",
          "text": [
            "cuda:0\n",
            "Train on 680000 samples, validate on 120000 samples, 336 steps per epoch\n",
            "Epoch 1/20\n",
            "44s - loss:  3.3359 - binary_crossentropy:  2.1565 - auc:  0.6705 - val_binary_crossentropy:  1.0182 - val_auc:  0.7154\n",
            "Epoch 2/20\n",
            "41s - loss:  2.0363 - binary_crossentropy:  1.5257 - auc:  0.7037 - val_binary_crossentropy:  0.7714 - val_auc:  0.7270\n",
            "Epoch 3/20\n",
            "40s - loss:  1.5084 - binary_crossentropy:  1.1959 - auc:  0.7301 - val_binary_crossentropy:  1.7293 - val_auc:  0.6896\n",
            "Epoch 4/20\n",
            "40s - loss:  1.2903 - binary_crossentropy:  1.0344 - auc:  0.7646 - val_binary_crossentropy:  0.5560 - val_auc:  0.7306\n",
            "Epoch 5/20\n",
            "41s - loss:  0.9946 - binary_crossentropy:  0.8126 - auc:  0.8097 - val_binary_crossentropy:  0.6400 - val_auc:  0.7332\n",
            "Epoch 6/20\n",
            "40s - loss:  0.9035 - binary_crossentropy:  0.7337 - auc:  0.8332 - val_binary_crossentropy:  0.9145 - val_auc:  0.7172\n",
            "Epoch 7/20\n",
            "40s - loss:  0.7684 - binary_crossentropy:  0.6286 - auc:  0.8517 - val_binary_crossentropy:  0.6146 - val_auc:  0.7276\n",
            "Epoch 8/20\n",
            "40s - loss:  0.6962 - binary_crossentropy:  0.5708 - auc:  0.8641 - val_binary_crossentropy:  1.1228 - val_auc:  0.7087\n",
            "Epoch 9/20\n",
            "40s - loss:  0.6531 - binary_crossentropy:  0.5379 - auc:  0.8713 - val_binary_crossentropy:  0.7147 - val_auc:  0.7281\n",
            "Epoch 10/20\n",
            "44s - loss:  0.6059 - binary_crossentropy:  0.5074 - auc:  0.8783 - val_binary_crossentropy:  0.6351 - val_auc:  0.7275\n",
            "Epoch 11/20\n",
            "40s - loss:  0.5544 - binary_crossentropy:  0.4676 - auc:  0.8859 - val_binary_crossentropy:  0.6847 - val_auc:  0.7285\n",
            "Epoch 12/20\n",
            "40s - loss:  0.5323 - binary_crossentropy:  0.4491 - auc:  0.8910 - val_binary_crossentropy:  1.1914 - val_auc:  0.7045\n",
            "Epoch 13/20\n",
            "41s - loss:  0.4957 - binary_crossentropy:  0.4235 - auc:  0.8966 - val_binary_crossentropy:  1.0113 - val_auc:  0.7105\n",
            "Epoch 14/20\n",
            "41s - loss:  0.4679 - binary_crossentropy:  0.4028 - auc:  0.9018 - val_binary_crossentropy:  0.7111 - val_auc:  0.7191\n",
            "Epoch 15/20\n",
            "40s - loss:  0.4475 - binary_crossentropy:  0.3866 - auc:  0.9064 - val_binary_crossentropy:  0.8044 - val_auc:  0.7196\n",
            "Epoch 16/20\n",
            "41s - loss:  0.4304 - binary_crossentropy:  0.3735 - auc:  0.9116 - val_binary_crossentropy:  0.8001 - val_auc:  0.7167\n",
            "Epoch 17/20\n",
            "40s - loss:  0.4116 - binary_crossentropy:  0.3556 - auc:  0.9179 - val_binary_crossentropy:  1.2020 - val_auc:  0.7011\n",
            "Epoch 18/20\n",
            "41s - loss:  0.3731 - binary_crossentropy:  0.3263 - auc:  0.9269 - val_binary_crossentropy:  0.8863 - val_auc:  0.7074\n",
            "Epoch 19/20\n",
            "41s - loss:  0.3708 - binary_crossentropy:  0.3203 - auc:  0.9323 - val_binary_crossentropy:  1.0485 - val_auc:  0.7076\n",
            "Epoch 20/20\n",
            "41s - loss:  0.3262 - binary_crossentropy:  0.2848 - auc:  0.9428 - val_binary_crossentropy:  1.1613 - val_auc:  0.7023\n"
          ]
        }
      ]
    },
    {
      "cell_type": "code",
      "source": [
        "from sklearn.metrics import log_loss, roc_auc_score,accuracy_score\n",
        "from sklearn.metrics import f1_score\n",
        "from sklearn.metrics import cohen_kappa_score\n",
        "from sklearn.metrics import roc_auc_score,roc_curve\n",
        "import statsmodels.api as sm\n",
        "from sklearn.metrics import precision_score,recall_score\n",
        "pred_ans = model.predict(test_model_input, 256)\n",
        "ypred=[]\n",
        "for i in pred_ans:\n",
        "    ypred.append(round(i[0]))\n",
        "print(\"\")\n",
        "print(\"test LogLoss\", round(log_loss(test[target].values, pred_ans), 4))\n",
        "print(\"test roc_auc_score\", round(roc_auc_score(test[target].values, pred_ans), 4))\n",
        "print(\"test f1 score\", round(f1_score(test[target].values,ypred), 4))\n",
        "print(\"test precision score\", round(precision_score(test[target].values,ypred), 4))\n",
        "print(\"test recall score\", round(recall_score(test[target].values,ypred), 4))\n",
        "print(\"test accuracy score\", round(accuracy_score(test[target].values,ypred), 4))"
      ],
      "metadata": {
        "colab": {
          "base_uri": "https://localhost:8080/"
        },
        "outputId": "58f48ab4-2975-4915-d21d-e90220bd527b",
        "id": "xso44tBC90p-"
      },
      "execution_count": null,
      "outputs": [
        {
          "output_type": "stream",
          "name": "stdout",
          "text": [
            "\n",
            "test LogLoss 1.1615\n",
            "test roc_auc_score 0.7027\n",
            "test f1 score 0.3924\n",
            "test precision score 0.5566\n",
            "test recall score 0.303\n",
            "test accuracy score 0.7611\n"
          ]
        }
      ]
    },
    {
      "cell_type": "markdown",
      "source": [
        "## Wide & Deep"
      ],
      "metadata": {
        "id": "9isTMvQk-BoZ"
      }
    },
    {
      "cell_type": "code",
      "source": [
        "from deepctr_torch.models import WDL\n",
        "model =  WDL(linear_feature_columns=linear_feature_columns, dnn_feature_columns=dnn_feature_columns,\n",
        "                   task='binary',dnn_hidden_units=(512,128, 512,256),  l2_reg_linear=0.1,\n",
        "                   l2_reg_embedding=1e-1,  dnn_use_bn=True,device=device,dnn_activation='sigmoid')\n",
        "model.compile(\"adagrad\", \"binary_crossentropy\",\n",
        "                  metrics=[\"binary_crossentropy\", \"auc\"], )\n",
        "history = model.fit(train_model_input, train[target].values, batch_size=2024, epochs=20, verbose=2,\n",
        "                        validation_split=0.15)"
      ],
      "metadata": {
        "colab": {
          "base_uri": "https://localhost:8080/"
        },
        "outputId": "da1f428a-d427-410a-d31f-2986b905f1a2",
        "id": "xp0Fxf4L-BoZ"
      },
      "execution_count": null,
      "outputs": [
        {
          "output_type": "stream",
          "name": "stdout",
          "text": [
            "cuda:0\n",
            "Train on 680000 samples, validate on 120000 samples, 336 steps per epoch\n",
            "Epoch 1/20\n",
            "16s - loss:  3.5523 - binary_crossentropy:  2.2904 - auc:  0.6547 - val_binary_crossentropy:  0.8892 - val_auc:  0.7127\n",
            "Epoch 2/20\n",
            "16s - loss:  2.2541 - binary_crossentropy:  1.6838 - auc:  0.6667 - val_binary_crossentropy:  1.2030 - val_auc:  0.6830\n",
            "Epoch 3/20\n",
            "16s - loss:  1.5384 - binary_crossentropy:  1.2505 - auc:  0.6878 - val_binary_crossentropy:  1.6311 - val_auc:  0.6744\n",
            "Epoch 4/20\n",
            "16s - loss:  1.4286 - binary_crossentropy:  1.1845 - auc:  0.6955 - val_binary_crossentropy:  1.4779 - val_auc:  0.6783\n",
            "Epoch 5/20\n",
            "16s - loss:  1.1681 - binary_crossentropy:  0.9994 - auc:  0.7074 - val_binary_crossentropy:  0.5632 - val_auc:  0.7360\n",
            "Epoch 6/20\n",
            "16s - loss:  1.1163 - binary_crossentropy:  0.9570 - auc:  0.7129 - val_binary_crossentropy:  1.3636 - val_auc:  0.6856\n",
            "Epoch 7/20\n",
            "16s - loss:  1.0214 - binary_crossentropy:  0.8913 - auc:  0.7179 - val_binary_crossentropy:  0.5231 - val_auc:  0.7417\n",
            "Epoch 8/20\n",
            "16s - loss:  0.9333 - binary_crossentropy:  0.8268 - auc:  0.7247 - val_binary_crossentropy:  1.2032 - val_auc:  0.6933\n",
            "Epoch 9/20\n",
            "16s - loss:  0.8942 - binary_crossentropy:  0.7923 - auc:  0.7278 - val_binary_crossentropy:  0.6510 - val_auc:  0.7276\n",
            "Epoch 10/20\n",
            "16s - loss:  0.9112 - binary_crossentropy:  0.8090 - auc:  0.7266 - val_binary_crossentropy:  0.5873 - val_auc:  0.7341\n",
            "Epoch 11/20\n",
            "16s - loss:  0.8777 - binary_crossentropy:  0.7838 - auc:  0.7297 - val_binary_crossentropy:  0.5507 - val_auc:  0.7406\n",
            "Epoch 12/20\n",
            "16s - loss:  0.8366 - binary_crossentropy:  0.7524 - auc:  0.7330 - val_binary_crossentropy:  1.0019 - val_auc:  0.7040\n",
            "Epoch 13/20\n",
            "16s - loss:  0.7999 - binary_crossentropy:  0.7251 - auc:  0.7363 - val_binary_crossentropy:  0.5365 - val_auc:  0.7425\n",
            "Epoch 14/20\n",
            "16s - loss:  0.7953 - binary_crossentropy:  0.7193 - auc:  0.7374 - val_binary_crossentropy:  0.5152 - val_auc:  0.7509\n",
            "Epoch 15/20\n",
            "16s - loss:  0.7585 - binary_crossentropy:  0.6925 - auc:  0.7408 - val_binary_crossentropy:  0.6659 - val_auc:  0.7286\n",
            "Epoch 16/20\n",
            "16s - loss:  0.7566 - binary_crossentropy:  0.6898 - auc:  0.7417 - val_binary_crossentropy:  0.6689 - val_auc:  0.7281\n",
            "Epoch 17/20\n",
            "16s - loss:  0.7391 - binary_crossentropy:  0.6765 - auc:  0.7429 - val_binary_crossentropy:  0.5077 - val_auc:  0.7563\n",
            "Epoch 18/20\n",
            "15s - loss:  0.7296 - binary_crossentropy:  0.6716 - auc:  0.7431 - val_binary_crossentropy:  0.4971 - val_auc:  0.7567\n",
            "Epoch 19/20\n",
            "16s - loss:  0.7141 - binary_crossentropy:  0.6585 - auc:  0.7458 - val_binary_crossentropy:  0.4961 - val_auc:  0.7568\n",
            "Epoch 20/20\n",
            "16s - loss:  0.6954 - binary_crossentropy:  0.6427 - auc:  0.7483 - val_binary_crossentropy:  1.0079 - val_auc:  0.7062\n"
          ]
        }
      ]
    },
    {
      "cell_type": "code",
      "source": [
        "from sklearn.metrics import log_loss, roc_auc_score,accuracy_score\n",
        "from sklearn.metrics import f1_score\n",
        "from sklearn.metrics import cohen_kappa_score\n",
        "from sklearn.metrics import roc_auc_score,roc_curve\n",
        "import statsmodels.api as sm\n",
        "from sklearn.metrics import precision_score,recall_score\n",
        "pred_ans = model.predict(test_model_input, 256)\n",
        "ypred=[]\n",
        "for i in pred_ans:\n",
        "    ypred.append(round(i[0]))\n",
        "print(\"\")\n",
        "print(\"test LogLoss\", round(log_loss(test[target].values, pred_ans), 4))\n",
        "print(\"test roc_auc_score\", round(roc_auc_score(test[target].values, pred_ans), 4))\n",
        "print(\"test f1 score\", round(f1_score(test[target].values,ypred), 4))\n",
        "print(\"test precision score\", round(precision_score(test[target].values,ypred), 4))\n",
        "print(\"test recall score\", round(recall_score(test[target].values,ypred), 4))\n",
        "print(\"test accuracy score\", round(accuracy_score(test[target].values,ypred), 4))"
      ],
      "metadata": {
        "colab": {
          "base_uri": "https://localhost:8080/"
        },
        "outputId": "e3046b36-ba2a-483d-e01f-56b928632326",
        "id": "Xa4XI8k6-BoZ"
      },
      "execution_count": null,
      "outputs": [
        {
          "output_type": "stream",
          "name": "stdout",
          "text": [
            "\n",
            "test LogLoss 1.0037\n",
            "test roc_auc_score 0.706\n",
            "test f1 score 0.2593\n",
            "test precision score 0.7082\n",
            "test recall score 0.1587\n",
            "test accuracy score 0.7692\n"
          ]
        }
      ]
    },
    {
      "cell_type": "markdown",
      "source": [
        "##  Deep Cross"
      ],
      "metadata": {
        "id": "1NDHrAlz-IKS"
      }
    },
    {
      "cell_type": "code",
      "source": [
        "from deepctr_torch.models import DCN\n",
        "model =  DCN(linear_feature_columns=linear_feature_columns, dnn_feature_columns=dnn_feature_columns,\n",
        "                   task='binary',dnn_hidden_units=(256,128),  l2_reg_linear=0.0001,\n",
        "                   l2_reg_embedding=1e-4,  dnn_use_bn=True,device=device,dnn_activation='sigmoid')\n",
        "model.compile(\"adam\", \"binary_crossentropy\",\n",
        "                  metrics=[\"binary_crossentropy\", \"auc\"], )\n",
        "history = model.fit(train_model_input, train[target].values, batch_size=2024, epochs=20, verbose=2,\n",
        "                        validation_split=0.15)"
      ],
      "metadata": {
        "colab": {
          "base_uri": "https://localhost:8080/"
        },
        "id": "VpJfGJwh-IKS",
        "outputId": "781b2763-6db3-4528-a1a8-537cde9051cc"
      },
      "execution_count": null,
      "outputs": [
        {
          "output_type": "stream",
          "name": "stdout",
          "text": [
            "cuda:0\n",
            "Train on 680000 samples, validate on 120000 samples, 336 steps per epoch\n",
            "Epoch 1/20\n",
            "17s - loss:  54.3809 - binary_crossentropy:  19.7706 - auc:  0.4801 - val_binary_crossentropy:  8.7518 - val_auc:  0.5752\n",
            "Epoch 2/20\n",
            "17s - loss:  21.3672 - binary_crossentropy:  7.8518 - auc:  0.5753 - val_binary_crossentropy:  7.3706 - val_auc:  0.5692\n",
            "Epoch 3/20\n",
            "17s - loss:  19.7732 - binary_crossentropy:  7.2657 - auc:  0.5779 - val_binary_crossentropy:  7.2622 - val_auc:  0.5719\n",
            "Epoch 4/20\n",
            "17s - loss:  26.6021 - binary_crossentropy:  9.7596 - auc:  0.5579 - val_binary_crossentropy:  7.1284 - val_auc:  0.5675\n",
            "Epoch 5/20\n",
            "16s - loss:  19.1355 - binary_crossentropy:  7.0037 - auc:  0.5760 - val_binary_crossentropy:  7.3664 - val_auc:  0.5709\n",
            "Epoch 6/20\n",
            "17s - loss:  33.5523 - binary_crossentropy:  12.2286 - auc:  0.5444 - val_binary_crossentropy:  23.8103 - val_auc:  0.4501\n",
            "Epoch 7/20\n",
            "16s - loss:  65.3158 - binary_crossentropy:  23.6491 - auc:  0.4487 - val_binary_crossentropy:  23.4612 - val_auc:  0.4493\n",
            "Epoch 8/20\n",
            "17s - loss:  30.1756 - binary_crossentropy:  10.9962 - auc:  0.5432 - val_binary_crossentropy:  7.1917 - val_auc:  0.5684\n",
            "Epoch 9/20\n",
            "17s - loss:  19.4749 - binary_crossentropy:  7.1264 - auc:  0.5763 - val_binary_crossentropy:  7.0731 - val_auc:  0.5684\n",
            "Epoch 10/20\n",
            "17s - loss:  19.9953 - binary_crossentropy:  7.3069 - auc:  0.5757 - val_binary_crossentropy:  7.3746 - val_auc:  0.5716\n",
            "Epoch 11/20\n",
            "17s - loss:  19.5466 - binary_crossentropy:  7.1351 - auc:  0.5779 - val_binary_crossentropy:  7.1472 - val_auc:  0.5722\n",
            "Epoch 12/20\n",
            "17s - loss:  19.4320 - binary_crossentropy:  7.1831 - auc:  0.5839 - val_binary_crossentropy:  7.2549 - val_auc:  0.5796\n",
            "Epoch 13/20\n",
            "17s - loss:  32.1771 - binary_crossentropy:  11.7473 - auc:  0.5479 - val_binary_crossentropy:  23.7483 - val_auc:  0.4604\n",
            "Epoch 14/20\n",
            "17s - loss:  34.5178 - binary_crossentropy:  12.5712 - auc:  0.5385 - val_binary_crossentropy:  7.5842 - val_auc:  0.5694\n",
            "Epoch 15/20\n",
            "17s - loss:  20.0585 - binary_crossentropy:  7.3472 - auc:  0.5788 - val_binary_crossentropy:  23.8530 - val_auc:  0.4574\n",
            "Epoch 16/20\n",
            "17s - loss:  65.9242 - binary_crossentropy:  23.8819 - auc:  0.4570 - val_binary_crossentropy:  23.5870 - val_auc:  0.4503\n",
            "Epoch 17/20\n",
            "16s - loss:  64.1137 - binary_crossentropy:  23.2159 - auc:  0.4524 - val_binary_crossentropy:  23.1651 - val_auc:  0.4559\n",
            "Epoch 18/20\n",
            "17s - loss:  33.5193 - binary_crossentropy:  12.3406 - auc:  0.5446 - val_binary_crossentropy:  7.9654 - val_auc:  0.5677\n",
            "Epoch 19/20\n",
            "17s - loss:  20.4519 - binary_crossentropy:  7.4776 - auc:  0.5768 - val_binary_crossentropy:  7.5198 - val_auc:  0.5658\n",
            "Epoch 20/20\n",
            "17s - loss:  20.1375 - binary_crossentropy:  7.3475 - auc:  0.5765 - val_binary_crossentropy:  7.5870 - val_auc:  0.5718\n"
          ]
        }
      ]
    },
    {
      "cell_type": "code",
      "source": [
        "from sklearn.metrics import log_loss, roc_auc_score,accuracy_score\n",
        "from sklearn.metrics import f1_score\n",
        "from sklearn.metrics import cohen_kappa_score\n",
        "from sklearn.metrics import roc_auc_score,roc_curve\n",
        "import statsmodels.api as sm\n",
        "from sklearn.metrics import precision_score,recall_score\n",
        "pred_ans = model.predict(test_model_input, 256)\n",
        "ypred=[]\n",
        "for i in pred_ans:\n",
        "    ypred.append(round(i[0]))\n",
        "print(\"\")\n",
        "print(\"test LogLoss\", round(log_loss(test[target].values, pred_ans), 4))\n",
        "print(\"test roc_auc_score\", round(roc_auc_score(test[target].values, pred_ans), 4))\n",
        "print(\"test f1 score\", round(f1_score(test[target].values,ypred), 4))\n",
        "print(\"test precision score\", round(precision_score(test[target].values,ypred), 4))\n",
        "print(\"test recall score\", round(recall_score(test[target].values,ypred), 4))\n",
        "print(\"test accuracy score\", round(accuracy_score(test[target].values,ypred), 4))"
      ],
      "metadata": {
        "colab": {
          "base_uri": "https://localhost:8080/"
        },
        "id": "OHj6xjbL-IKS",
        "outputId": "14097fb5-e6aa-47ef-ef1b-6688ebbfa869"
      },
      "execution_count": null,
      "outputs": [
        {
          "output_type": "stream",
          "name": "stdout",
          "text": [
            "\n",
            "test LogLoss 7.5099\n",
            "test roc_auc_score 0.5741\n",
            "test f1 score 0.268\n",
            "test precision score 0.5295\n",
            "test recall score 0.1794\n",
            "test accuracy score 0.7505\n"
          ]
        }
      ]
    }
  ]
}