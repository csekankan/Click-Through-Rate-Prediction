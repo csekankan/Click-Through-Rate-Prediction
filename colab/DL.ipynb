{
 "cells": [
  {
   "cell_type": "markdown",
   "metadata": {},
   "source": [
    "# Load Data"
   ]
  },
  {
   "cell_type": "code",
   "execution_count": 16,
   "metadata": {
    "execution": {
     "iopub.execute_input": "2023-04-08T17:49:44.804959Z",
     "iopub.status.busy": "2023-04-08T17:49:44.803686Z",
     "iopub.status.idle": "2023-04-08T17:50:15.204222Z",
     "shell.execute_reply": "2023-04-08T17:50:15.202696Z",
     "shell.execute_reply.started": "2023-04-08T17:49:44.804907Z"
    }
   },
   "outputs": [
    {
     "name": "stdout",
     "output_type": "stream",
     "text": [
      "Collecting deepctr_torch\n",
      "  Downloading deepctr_torch-0.2.9-py3-none-any.whl (82 kB)\n",
      "\u001b[2K     \u001b[90m━━━━━━━━━━━━━━━━━━━━━━━━━━━━━━━━━━━━━━━━\u001b[0m \u001b[32m83.0/83.0 kB\u001b[0m \u001b[31m3.9 MB/s\u001b[0m eta \u001b[36m0:00:00\u001b[0m\n",
      "\u001b[?25hRequirement already satisfied: tqdm in /opt/conda/lib/python3.7/site-packages (from deepctr_torch) (4.64.1)\n",
      "Requirement already satisfied: torch>=1.2.0 in /opt/conda/lib/python3.7/site-packages (from deepctr_torch) (1.13.0+cpu)\n",
      "Requirement already satisfied: tensorflow in /opt/conda/lib/python3.7/site-packages (from deepctr_torch) (2.11.0)\n",
      "Requirement already satisfied: scikit-learn in /opt/conda/lib/python3.7/site-packages (from deepctr_torch) (1.0.2)\n",
      "Requirement already satisfied: typing-extensions in /opt/conda/lib/python3.7/site-packages (from torch>=1.2.0->deepctr_torch) (4.4.0)\n",
      "Requirement already satisfied: joblib>=0.11 in /opt/conda/lib/python3.7/site-packages (from scikit-learn->deepctr_torch) (1.2.0)\n",
      "Requirement already satisfied: threadpoolctl>=2.0.0 in /opt/conda/lib/python3.7/site-packages (from scikit-learn->deepctr_torch) (3.1.0)\n",
      "Requirement already satisfied: numpy>=1.14.6 in /opt/conda/lib/python3.7/site-packages (from scikit-learn->deepctr_torch) (1.21.6)\n",
      "Requirement already satisfied: scipy>=1.1.0 in /opt/conda/lib/python3.7/site-packages (from scikit-learn->deepctr_torch) (1.7.3)\n",
      "Requirement already satisfied: libclang>=13.0.0 in /opt/conda/lib/python3.7/site-packages (from tensorflow->deepctr_torch) (15.0.6.1)\n",
      "Requirement already satisfied: packaging in /opt/conda/lib/python3.7/site-packages (from tensorflow->deepctr_torch) (23.0)\n",
      "Requirement already satisfied: keras<2.12,>=2.11.0 in /opt/conda/lib/python3.7/site-packages (from tensorflow->deepctr_torch) (2.11.0)\n",
      "Collecting protobuf<3.20,>=3.9.2\n",
      "  Downloading protobuf-3.19.6-cp37-cp37m-manylinux_2_17_x86_64.manylinux2014_x86_64.whl (1.1 MB)\n",
      "\u001b[2K     \u001b[90m━━━━━━━━━━━━━━━━━━━━━━━━━━━━━━━━━━━━━━━━\u001b[0m \u001b[32m1.1/1.1 MB\u001b[0m \u001b[31m35.9 MB/s\u001b[0m eta \u001b[36m0:00:00\u001b[0m\n",
      "\u001b[?25hRequirement already satisfied: six>=1.12.0 in /opt/conda/lib/python3.7/site-packages (from tensorflow->deepctr_torch) (1.16.0)\n",
      "Requirement already satisfied: tensorflow-estimator<2.12,>=2.11.0 in /opt/conda/lib/python3.7/site-packages (from tensorflow->deepctr_torch) (2.11.0)\n",
      "Requirement already satisfied: opt-einsum>=2.3.2 in /opt/conda/lib/python3.7/site-packages (from tensorflow->deepctr_torch) (3.3.0)\n",
      "Requirement already satisfied: wrapt>=1.11.0 in /opt/conda/lib/python3.7/site-packages (from tensorflow->deepctr_torch) (1.14.1)\n",
      "Requirement already satisfied: h5py>=2.9.0 in /opt/conda/lib/python3.7/site-packages (from tensorflow->deepctr_torch) (3.8.0)\n",
      "Requirement already satisfied: tensorflow-io-gcs-filesystem>=0.23.1 in /opt/conda/lib/python3.7/site-packages (from tensorflow->deepctr_torch) (0.29.0)\n",
      "Requirement already satisfied: setuptools in /opt/conda/lib/python3.7/site-packages (from tensorflow->deepctr_torch) (59.8.0)\n",
      "Requirement already satisfied: termcolor>=1.1.0 in /opt/conda/lib/python3.7/site-packages (from tensorflow->deepctr_torch) (2.2.0)\n",
      "Requirement already satisfied: absl-py>=1.0.0 in /opt/conda/lib/python3.7/site-packages (from tensorflow->deepctr_torch) (1.4.0)\n",
      "Requirement already satisfied: tensorboard<2.12,>=2.11 in /opt/conda/lib/python3.7/site-packages (from tensorflow->deepctr_torch) (2.11.2)\n",
      "Requirement already satisfied: flatbuffers>=2.0 in /opt/conda/lib/python3.7/site-packages (from tensorflow->deepctr_torch) (23.1.21)\n",
      "Requirement already satisfied: gast<=0.4.0,>=0.2.1 in /opt/conda/lib/python3.7/site-packages (from tensorflow->deepctr_torch) (0.4.0)\n",
      "Requirement already satisfied: google-pasta>=0.1.1 in /opt/conda/lib/python3.7/site-packages (from tensorflow->deepctr_torch) (0.2.0)\n",
      "Requirement already satisfied: grpcio<2.0,>=1.24.3 in /opt/conda/lib/python3.7/site-packages (from tensorflow->deepctr_torch) (1.51.1)\n",
      "Requirement already satisfied: astunparse>=1.6.0 in /opt/conda/lib/python3.7/site-packages (from tensorflow->deepctr_torch) (1.6.3)\n",
      "Requirement already satisfied: wheel<1.0,>=0.23.0 in /opt/conda/lib/python3.7/site-packages (from astunparse>=1.6.0->tensorflow->deepctr_torch) (0.38.4)\n",
      "Requirement already satisfied: google-auth<3,>=1.6.3 in /opt/conda/lib/python3.7/site-packages (from tensorboard<2.12,>=2.11->tensorflow->deepctr_torch) (1.35.0)\n",
      "Requirement already satisfied: werkzeug>=1.0.1 in /opt/conda/lib/python3.7/site-packages (from tensorboard<2.12,>=2.11->tensorflow->deepctr_torch) (2.2.3)\n",
      "Requirement already satisfied: markdown>=2.6.8 in /opt/conda/lib/python3.7/site-packages (from tensorboard<2.12,>=2.11->tensorflow->deepctr_torch) (3.4.1)\n",
      "Requirement already satisfied: tensorboard-data-server<0.7.0,>=0.6.0 in /opt/conda/lib/python3.7/site-packages (from tensorboard<2.12,>=2.11->tensorflow->deepctr_torch) (0.6.1)\n",
      "Requirement already satisfied: google-auth-oauthlib<0.5,>=0.4.1 in /opt/conda/lib/python3.7/site-packages (from tensorboard<2.12,>=2.11->tensorflow->deepctr_torch) (0.4.6)\n",
      "Requirement already satisfied: requests<3,>=2.21.0 in /opt/conda/lib/python3.7/site-packages (from tensorboard<2.12,>=2.11->tensorflow->deepctr_torch) (2.28.2)\n",
      "Requirement already satisfied: tensorboard-plugin-wit>=1.6.0 in /opt/conda/lib/python3.7/site-packages (from tensorboard<2.12,>=2.11->tensorflow->deepctr_torch) (1.8.1)\n",
      "Requirement already satisfied: pyasn1-modules>=0.2.1 in /opt/conda/lib/python3.7/site-packages (from google-auth<3,>=1.6.3->tensorboard<2.12,>=2.11->tensorflow->deepctr_torch) (0.2.8)\n",
      "Requirement already satisfied: cachetools<5.0,>=2.0.0 in /opt/conda/lib/python3.7/site-packages (from google-auth<3,>=1.6.3->tensorboard<2.12,>=2.11->tensorflow->deepctr_torch) (4.2.4)\n",
      "Requirement already satisfied: rsa<5,>=3.1.4 in /opt/conda/lib/python3.7/site-packages (from google-auth<3,>=1.6.3->tensorboard<2.12,>=2.11->tensorflow->deepctr_torch) (4.9)\n",
      "Requirement already satisfied: requests-oauthlib>=0.7.0 in /opt/conda/lib/python3.7/site-packages (from google-auth-oauthlib<0.5,>=0.4.1->tensorboard<2.12,>=2.11->tensorflow->deepctr_torch) (1.3.1)\n",
      "Requirement already satisfied: importlib-metadata>=4.4 in /opt/conda/lib/python3.7/site-packages (from markdown>=2.6.8->tensorboard<2.12,>=2.11->tensorflow->deepctr_torch) (4.11.4)\n",
      "Requirement already satisfied: idna<4,>=2.5 in /opt/conda/lib/python3.7/site-packages (from requests<3,>=2.21.0->tensorboard<2.12,>=2.11->tensorflow->deepctr_torch) (3.4)\n",
      "Requirement already satisfied: urllib3<1.27,>=1.21.1 in /opt/conda/lib/python3.7/site-packages (from requests<3,>=2.21.0->tensorboard<2.12,>=2.11->tensorflow->deepctr_torch) (1.26.14)\n",
      "Requirement already satisfied: certifi>=2017.4.17 in /opt/conda/lib/python3.7/site-packages (from requests<3,>=2.21.0->tensorboard<2.12,>=2.11->tensorflow->deepctr_torch) (2022.12.7)\n",
      "Requirement already satisfied: charset-normalizer<4,>=2 in /opt/conda/lib/python3.7/site-packages (from requests<3,>=2.21.0->tensorboard<2.12,>=2.11->tensorflow->deepctr_torch) (2.1.1)\n",
      "Requirement already satisfied: MarkupSafe>=2.1.1 in /opt/conda/lib/python3.7/site-packages (from werkzeug>=1.0.1->tensorboard<2.12,>=2.11->tensorflow->deepctr_torch) (2.1.1)\n",
      "Requirement already satisfied: zipp>=0.5 in /opt/conda/lib/python3.7/site-packages (from importlib-metadata>=4.4->markdown>=2.6.8->tensorboard<2.12,>=2.11->tensorflow->deepctr_torch) (3.11.0)\n",
      "Requirement already satisfied: pyasn1<0.5.0,>=0.4.6 in /opt/conda/lib/python3.7/site-packages (from pyasn1-modules>=0.2.1->google-auth<3,>=1.6.3->tensorboard<2.12,>=2.11->tensorflow->deepctr_torch) (0.4.8)\n",
      "Requirement already satisfied: oauthlib>=3.0.0 in /opt/conda/lib/python3.7/site-packages (from requests-oauthlib>=0.7.0->google-auth-oauthlib<0.5,>=0.4.1->tensorboard<2.12,>=2.11->tensorflow->deepctr_torch) (3.2.2)\n",
      "Installing collected packages: protobuf, deepctr_torch\n",
      "  Attempting uninstall: protobuf\n",
      "    Found existing installation: protobuf 3.20.3\n",
      "    Uninstalling protobuf-3.20.3:\n",
      "      Successfully uninstalled protobuf-3.20.3\n",
      "\u001b[31mERROR: pip's dependency resolver does not currently take into account all the packages that are installed. This behaviour is the source of the following dependency conflicts.\n",
      "tfx-bsl 1.12.0 requires google-api-python-client<2,>=1.7.11, but you have google-api-python-client 2.83.0 which is incompatible.\n",
      "onnx 1.13.1 requires protobuf<4,>=3.20.2, but you have protobuf 3.19.6 which is incompatible.\n",
      "apache-beam 2.44.0 requires dill<0.3.2,>=0.3.1.1, but you have dill 0.3.6 which is incompatible.\u001b[0m\u001b[31m\n",
      "\u001b[0mSuccessfully installed deepctr_torch-0.2.9 protobuf-3.19.6\n",
      "\u001b[33mWARNING: Running pip as the 'root' user can result in broken permissions and conflicting behaviour with the system package manager. It is recommended to use a virtual environment instead: https://pip.pypa.io/warnings/venv\u001b[0m\u001b[33m\n",
      "\u001b[0m"
     ]
    }
   ],
   "source": [
    "!pip install deepctr_torch"
   ]
  },
  {
   "cell_type": "code",
   "execution_count": 1,
   "metadata": {
    "execution": {
     "iopub.execute_input": "2023-04-08T17:47:26.623862Z",
     "iopub.status.busy": "2023-04-08T17:47:26.623421Z",
     "iopub.status.idle": "2023-04-08T17:47:26.666011Z",
     "shell.execute_reply": "2023-04-08T17:47:26.664533Z",
     "shell.execute_reply.started": "2023-04-08T17:47:26.623824Z"
    },
    "id": "6Thh8-M_AIgX",
    "outputId": "8e29fc78-e9d4-42e7-be7a-8179821493a5"
   },
   "outputs": [
    {
     "name": "stdout",
     "output_type": "stream",
     "text": [
      "/kaggle/input/clickthrough-rate-prediction/ad_10000records.csv\n",
      "/kaggle/input/clickthrough-rate-prediction/ad.csv\n",
      "/kaggle/input/clickthrough-rate-prediction/new_ad.csv\n",
      "/kaggle/input/clickthrough-rate-prediction/ad (1).csv\n"
     ]
    }
   ],
   "source": [
    "\n",
    "\n",
    "import numpy as np # linear algebra\n",
    "import pandas as pd # data processing, CSV file I/O (e.g. pd.read_csv)\n"
   ]
  },
  {
   "cell_type": "code",
   "execution_count": 2,
   "metadata": {
    "execution": {
     "iopub.execute_input": "2023-04-08T17:47:26.669081Z",
     "iopub.status.busy": "2023-04-08T17:47:26.668457Z",
     "iopub.status.idle": "2023-04-08T17:47:26.855963Z",
     "shell.execute_reply": "2023-04-08T17:47:26.854914Z",
     "shell.execute_reply.started": "2023-04-08T17:47:26.669042Z"
    },
    "id": "i5rmzu3Y_K7E",
    "outputId": "694a59c8-d5f0-4090-babf-08fb455c1d72"
   },
   "outputs": [
    {
     "name": "stdout",
     "output_type": "stream",
     "text": [
      "There are 50000 rows and 10 columns\n"
     ]
    }
   ],
   "source": [
    "\n",
    "nRowsRead = None # specify 'None' if want to read whole file\n",
    "# Apply_Rate_2019.csv has 1200890 rows in reality, but we are only loading/previewing the first 1000 rows\n",
    "data = pd.read_csv('/kaggle/input/clickthrough-rate-prediction/ad.csv', delimiter=',', nrows = nRowsRead)\n",
    "data.dataframeName = 'Apply_Rate_2019.csv'\n",
    "nRow, nCol = data.shape\n",
    "print(f'There are {nRow} rows and {nCol} columns')"
   ]
  },
  {
   "cell_type": "code",
   "execution_count": 3,
   "metadata": {
    "execution": {
     "iopub.execute_input": "2023-04-08T17:47:43.134185Z",
     "iopub.status.busy": "2023-04-08T17:47:43.133238Z",
     "iopub.status.idle": "2023-04-08T17:47:43.178192Z",
     "shell.execute_reply": "2023-04-08T17:47:43.176660Z",
     "shell.execute_reply.started": "2023-04-08T17:47:43.134125Z"
    },
    "id": "GWT3GU8f-UVq",
    "outputId": "091577d6-a8dd-4bf6-9585-7363b7c52ad8"
   },
   "outputs": [
    {
     "data": {
      "text/html": [
       "<div>\n",
       "<style scoped>\n",
       "    .dataframe tbody tr th:only-of-type {\n",
       "        vertical-align: middle;\n",
       "    }\n",
       "\n",
       "    .dataframe tbody tr th {\n",
       "        vertical-align: top;\n",
       "    }\n",
       "\n",
       "    .dataframe thead th {\n",
       "        text-align: right;\n",
       "    }\n",
       "</style>\n",
       "<table border=\"1\" class=\"dataframe\">\n",
       "  <thead>\n",
       "    <tr style=\"text-align: right;\">\n",
       "      <th></th>\n",
       "      <th>Daily Time Spent on Site</th>\n",
       "      <th>Age</th>\n",
       "      <th>Area Income</th>\n",
       "      <th>Daily Internet Usage</th>\n",
       "      <th>Ad Topic Line</th>\n",
       "      <th>City</th>\n",
       "      <th>Gender</th>\n",
       "      <th>Country</th>\n",
       "      <th>Timestamp</th>\n",
       "      <th>Clicked on Ad</th>\n",
       "    </tr>\n",
       "  </thead>\n",
       "  <tbody>\n",
       "    <tr>\n",
       "      <th>0</th>\n",
       "      <td>78.84</td>\n",
       "      <td>30.0</td>\n",
       "      <td>68448.94</td>\n",
       "      <td>161.79</td>\n",
       "      <td>Front-line even-keeled website</td>\n",
       "      <td>Silvaton</td>\n",
       "      <td>Male</td>\n",
       "      <td>Peru</td>\n",
       "      <td>2016-04-04 03:57:48</td>\n",
       "      <td>1</td>\n",
       "    </tr>\n",
       "    <tr>\n",
       "      <th>1</th>\n",
       "      <td>60.23</td>\n",
       "      <td>35.0</td>\n",
       "      <td>66815.54</td>\n",
       "      <td>216.24</td>\n",
       "      <td>Front-line fresh-thinking open system</td>\n",
       "      <td>West Jeremyside</td>\n",
       "      <td>Male</td>\n",
       "      <td>Papua New Guinea</td>\n",
       "      <td>2016-06-18 16:02:34</td>\n",
       "      <td>0</td>\n",
       "    </tr>\n",
       "    <tr>\n",
       "      <th>2</th>\n",
       "      <td>46.20</td>\n",
       "      <td>49.0</td>\n",
       "      <td>62109.80</td>\n",
       "      <td>135.24</td>\n",
       "      <td>Enhanced maximized access</td>\n",
       "      <td>Lake Vanessa</td>\n",
       "      <td>Male</td>\n",
       "      <td>Chile</td>\n",
       "      <td>2016-06-26 07:01:47</td>\n",
       "      <td>1</td>\n",
       "    </tr>\n",
       "    <tr>\n",
       "      <th>3</th>\n",
       "      <td>87.85</td>\n",
       "      <td>31.0</td>\n",
       "      <td>50055.33</td>\n",
       "      <td>134.46</td>\n",
       "      <td>Total zero administration software</td>\n",
       "      <td>Port Sherrystad</td>\n",
       "      <td>Male</td>\n",
       "      <td>French Polynesia</td>\n",
       "      <td>2016-04-18 21:07:28</td>\n",
       "      <td>1</td>\n",
       "    </tr>\n",
       "    <tr>\n",
       "      <th>4</th>\n",
       "      <td>64.38</td>\n",
       "      <td>37.0</td>\n",
       "      <td>55121.65</td>\n",
       "      <td>232.54</td>\n",
       "      <td>Devolved regional moderator</td>\n",
       "      <td>South Patrickfort</td>\n",
       "      <td>Female</td>\n",
       "      <td>Bosnia and Herzegovina</td>\n",
       "      <td>2016-07-18 18:33:05</td>\n",
       "      <td>0</td>\n",
       "    </tr>\n",
       "  </tbody>\n",
       "</table>\n",
       "</div>"
      ],
      "text/plain": [
       "   Daily Time Spent on Site   Age  Area Income  Daily Internet Usage  \\\n",
       "0                     78.84  30.0     68448.94                161.79   \n",
       "1                     60.23  35.0     66815.54                216.24   \n",
       "2                     46.20  49.0     62109.80                135.24   \n",
       "3                     87.85  31.0     50055.33                134.46   \n",
       "4                     64.38  37.0     55121.65                232.54   \n",
       "\n",
       "                           Ad Topic Line               City  Gender  \\\n",
       "0         Front-line even-keeled website           Silvaton    Male   \n",
       "1  Front-line fresh-thinking open system    West Jeremyside    Male   \n",
       "2              Enhanced maximized access       Lake Vanessa    Male   \n",
       "3     Total zero administration software    Port Sherrystad    Male   \n",
       "4            Devolved regional moderator  South Patrickfort  Female   \n",
       "\n",
       "                  Country            Timestamp  Clicked on Ad  \n",
       "0                    Peru  2016-04-04 03:57:48              1  \n",
       "1        Papua New Guinea  2016-06-18 16:02:34              0  \n",
       "2                   Chile  2016-06-26 07:01:47              1  \n",
       "3        French Polynesia  2016-04-18 21:07:28              1  \n",
       "4  Bosnia and Herzegovina  2016-07-18 18:33:05              0  "
      ]
     },
     "execution_count": 3,
     "metadata": {},
     "output_type": "execute_result"
    }
   ],
   "source": [
    "data.head(5)"
   ]
  },
  {
   "cell_type": "code",
   "execution_count": 4,
   "metadata": {
    "execution": {
     "iopub.execute_input": "2023-04-08T17:47:45.413368Z",
     "iopub.status.busy": "2023-04-08T17:47:45.412416Z",
     "iopub.status.idle": "2023-04-08T17:47:45.422640Z",
     "shell.execute_reply": "2023-04-08T17:47:45.421327Z",
     "shell.execute_reply.started": "2023-04-08T17:47:45.413310Z"
    },
    "id": "gKm0qOQZ-UVr",
    "outputId": "b23741b3-d7d5-4f46-c369-6a257b1ded84"
   },
   "outputs": [
    {
     "data": {
      "text/plain": [
       "Index(['Daily Time Spent on Site', 'Age', 'Area Income',\n",
       "       'Daily Internet Usage', 'Ad Topic Line', 'City', 'Gender', 'Country',\n",
       "       'Timestamp', 'Clicked on Ad'],\n",
       "      dtype='object')"
      ]
     },
     "execution_count": 4,
     "metadata": {},
     "output_type": "execute_result"
    }
   ],
   "source": [
    "data.columns"
   ]
  },
  {
   "cell_type": "code",
   "execution_count": 6,
   "metadata": {
    "execution": {
     "iopub.execute_input": "2023-04-08T17:48:10.253207Z",
     "iopub.status.busy": "2023-04-08T17:48:10.252790Z",
     "iopub.status.idle": "2023-04-08T17:48:10.264284Z",
     "shell.execute_reply": "2023-04-08T17:48:10.263027Z",
     "shell.execute_reply.started": "2023-04-08T17:48:10.253172Z"
    }
   },
   "outputs": [],
   "source": [
    "data=data[['Daily Time Spent on Site', 'Age', 'Area Income',\n",
    "       'Daily Internet Usage', 'Ad Topic Line', 'City', 'Gender', \n",
    "        'Clicked on Ad']]"
   ]
  },
  {
   "cell_type": "code",
   "execution_count": 7,
   "metadata": {
    "execution": {
     "iopub.execute_input": "2023-04-08T17:48:11.717883Z",
     "iopub.status.busy": "2023-04-08T17:48:11.717298Z",
     "iopub.status.idle": "2023-04-08T17:48:11.738063Z",
     "shell.execute_reply": "2023-04-08T17:48:11.736990Z",
     "shell.execute_reply.started": "2023-04-08T17:48:11.717816Z"
    },
    "id": "IYZQFcUr-UVs",
    "outputId": "cf9391e4-e5b5-433e-b467-bb86e5fdadcf"
   },
   "outputs": [
    {
     "data": {
      "text/html": [
       "<div>\n",
       "<style scoped>\n",
       "    .dataframe tbody tr th:only-of-type {\n",
       "        vertical-align: middle;\n",
       "    }\n",
       "\n",
       "    .dataframe tbody tr th {\n",
       "        vertical-align: top;\n",
       "    }\n",
       "\n",
       "    .dataframe thead th {\n",
       "        text-align: right;\n",
       "    }\n",
       "</style>\n",
       "<table border=\"1\" class=\"dataframe\">\n",
       "  <thead>\n",
       "    <tr style=\"text-align: right;\">\n",
       "      <th></th>\n",
       "      <th>Daily Time Spent on Site</th>\n",
       "      <th>Age</th>\n",
       "      <th>Area Income</th>\n",
       "      <th>Daily Internet Usage</th>\n",
       "      <th>Ad Topic Line</th>\n",
       "      <th>City</th>\n",
       "      <th>Gender</th>\n",
       "      <th>Clicked on Ad</th>\n",
       "    </tr>\n",
       "  </thead>\n",
       "  <tbody>\n",
       "    <tr>\n",
       "      <th>0</th>\n",
       "      <td>78.84</td>\n",
       "      <td>30.0</td>\n",
       "      <td>68448.94</td>\n",
       "      <td>161.79</td>\n",
       "      <td>Front-line even-keeled website</td>\n",
       "      <td>Silvaton</td>\n",
       "      <td>Male</td>\n",
       "      <td>1</td>\n",
       "    </tr>\n",
       "    <tr>\n",
       "      <th>1</th>\n",
       "      <td>60.23</td>\n",
       "      <td>35.0</td>\n",
       "      <td>66815.54</td>\n",
       "      <td>216.24</td>\n",
       "      <td>Front-line fresh-thinking open system</td>\n",
       "      <td>West Jeremyside</td>\n",
       "      <td>Male</td>\n",
       "      <td>0</td>\n",
       "    </tr>\n",
       "    <tr>\n",
       "      <th>2</th>\n",
       "      <td>46.20</td>\n",
       "      <td>49.0</td>\n",
       "      <td>62109.80</td>\n",
       "      <td>135.24</td>\n",
       "      <td>Enhanced maximized access</td>\n",
       "      <td>Lake Vanessa</td>\n",
       "      <td>Male</td>\n",
       "      <td>1</td>\n",
       "    </tr>\n",
       "    <tr>\n",
       "      <th>3</th>\n",
       "      <td>87.85</td>\n",
       "      <td>31.0</td>\n",
       "      <td>50055.33</td>\n",
       "      <td>134.46</td>\n",
       "      <td>Total zero administration software</td>\n",
       "      <td>Port Sherrystad</td>\n",
       "      <td>Male</td>\n",
       "      <td>1</td>\n",
       "    </tr>\n",
       "    <tr>\n",
       "      <th>4</th>\n",
       "      <td>64.38</td>\n",
       "      <td>37.0</td>\n",
       "      <td>55121.65</td>\n",
       "      <td>232.54</td>\n",
       "      <td>Devolved regional moderator</td>\n",
       "      <td>South Patrickfort</td>\n",
       "      <td>Female</td>\n",
       "      <td>0</td>\n",
       "    </tr>\n",
       "  </tbody>\n",
       "</table>\n",
       "</div>"
      ],
      "text/plain": [
       "   Daily Time Spent on Site   Age  Area Income  Daily Internet Usage  \\\n",
       "0                     78.84  30.0     68448.94                161.79   \n",
       "1                     60.23  35.0     66815.54                216.24   \n",
       "2                     46.20  49.0     62109.80                135.24   \n",
       "3                     87.85  31.0     50055.33                134.46   \n",
       "4                     64.38  37.0     55121.65                232.54   \n",
       "\n",
       "                           Ad Topic Line               City  Gender  \\\n",
       "0         Front-line even-keeled website           Silvaton    Male   \n",
       "1  Front-line fresh-thinking open system    West Jeremyside    Male   \n",
       "2              Enhanced maximized access       Lake Vanessa    Male   \n",
       "3     Total zero administration software    Port Sherrystad    Male   \n",
       "4            Devolved regional moderator  South Patrickfort  Female   \n",
       "\n",
       "   Clicked on Ad  \n",
       "0              1  \n",
       "1              0  \n",
       "2              1  \n",
       "3              1  \n",
       "4              0  "
      ]
     },
     "execution_count": 7,
     "metadata": {},
     "output_type": "execute_result"
    }
   ],
   "source": [
    "data.head(5)"
   ]
  },
  {
   "cell_type": "markdown",
   "metadata": {},
   "source": [
    "# Define Columns"
   ]
  },
  {
   "cell_type": "code",
   "execution_count": 5,
   "metadata": {
    "execution": {
     "iopub.execute_input": "2023-04-08T17:48:09.010606Z",
     "iopub.status.busy": "2023-04-08T17:48:09.009358Z",
     "iopub.status.idle": "2023-04-08T17:48:09.016251Z",
     "shell.execute_reply": "2023-04-08T17:48:09.014941Z",
     "shell.execute_reply.started": "2023-04-08T17:48:09.010545Z"
    },
    "id": "MpXALPQP-UVs"
   },
   "outputs": [],
   "source": [
    "label='Clicked on Ad'"
   ]
  },
  {
   "cell_type": "code",
   "execution_count": 8,
   "metadata": {
    "execution": {
     "iopub.execute_input": "2023-04-08T17:48:16.309812Z",
     "iopub.status.busy": "2023-04-08T17:48:16.309180Z",
     "iopub.status.idle": "2023-04-08T17:48:16.316014Z",
     "shell.execute_reply": "2023-04-08T17:48:16.314260Z",
     "shell.execute_reply.started": "2023-04-08T17:48:16.309757Z"
    }
   },
   "outputs": [],
   "source": [
    "cat_features=['Ad Topic Line','City','Gender']"
   ]
  },
  {
   "cell_type": "code",
   "execution_count": 9,
   "metadata": {
    "execution": {
     "iopub.execute_input": "2023-04-08T17:48:17.694705Z",
     "iopub.status.busy": "2023-04-08T17:48:17.693304Z",
     "iopub.status.idle": "2023-04-08T17:48:17.699953Z",
     "shell.execute_reply": "2023-04-08T17:48:17.698414Z",
     "shell.execute_reply.started": "2023-04-08T17:48:17.694650Z"
    },
    "id": "II9QPXLkDPVE"
   },
   "outputs": [],
   "source": [
    "continue_var=[ 'Daily Time Spent on Site', 'Age', 'Area Income','Daily Internet Usage']"
   ]
  },
  {
   "cell_type": "markdown",
   "metadata": {},
   "source": [
    "# Pre-processing"
   ]
  },
  {
   "cell_type": "code",
   "execution_count": 10,
   "metadata": {
    "execution": {
     "iopub.execute_input": "2023-04-08T17:48:19.877451Z",
     "iopub.status.busy": "2023-04-08T17:48:19.876992Z",
     "iopub.status.idle": "2023-04-08T17:48:19.907199Z",
     "shell.execute_reply": "2023-04-08T17:48:19.905845Z",
     "shell.execute_reply.started": "2023-04-08T17:48:19.877400Z"
    },
    "id": "aa9j6mn8DXoc"
   },
   "outputs": [],
   "source": [
    "fill_mean = lambda x: x.fillna(x.mean())\n",
    "\n",
    "for col in continue_var:\n",
    "    data[col] = data[col].fillna(data[col].mean())\n",
    "    data[col] = data[col].astype('float64')\n",
    "data = data.fillna('-1', )\n"
   ]
  },
  {
   "cell_type": "code",
   "execution_count": 11,
   "metadata": {
    "execution": {
     "iopub.execute_input": "2023-04-08T17:48:23.936908Z",
     "iopub.status.busy": "2023-04-08T17:48:23.936502Z",
     "iopub.status.idle": "2023-04-08T17:48:24.439937Z",
     "shell.execute_reply": "2023-04-08T17:48:24.438591Z",
     "shell.execute_reply.started": "2023-04-08T17:48:23.936872Z"
    },
    "id": "IugmjO-cDwlo"
   },
   "outputs": [],
   "source": [
    "from sklearn.preprocessing import LabelEncoder ,MinMaxScaler\n",
    "mms = MinMaxScaler(feature_range=(0, 1))\n",
    "data[continue_var] = mms.fit_transform(data[continue_var])\n"
   ]
  },
  {
   "cell_type": "code",
   "execution_count": 12,
   "metadata": {
    "execution": {
     "iopub.execute_input": "2023-04-08T17:48:25.540861Z",
     "iopub.status.busy": "2023-04-08T17:48:25.540436Z",
     "iopub.status.idle": "2023-04-08T17:48:25.547679Z",
     "shell.execute_reply": "2023-04-08T17:48:25.546194Z",
     "shell.execute_reply.started": "2023-04-08T17:48:25.540825Z"
    },
    "id": "Np_gZMpcD-Vp"
   },
   "outputs": [],
   "source": [
    "train=data"
   ]
  },
  {
   "cell_type": "code",
   "execution_count": 13,
   "metadata": {
    "execution": {
     "iopub.execute_input": "2023-04-08T17:48:26.812871Z",
     "iopub.status.busy": "2023-04-08T17:48:26.812429Z",
     "iopub.status.idle": "2023-04-08T17:48:26.875846Z",
     "shell.execute_reply": "2023-04-08T17:48:26.874605Z",
     "shell.execute_reply.started": "2023-04-08T17:48:26.812834Z"
    },
    "id": "m0Cz3w9cFg4v"
   },
   "outputs": [],
   "source": [
    "from sklearn.preprocessing import LabelEncoder,MinMaxScaler\n",
    "from sklearn.preprocessing import OneHotEncoder\n",
    "\n",
    "for c in cat_features:\n",
    "    le = LabelEncoder()\n",
    "    le.fit(train[c].astype(str))\n",
    "    train[c] = le.transform(train[c].astype(str))"
   ]
  },
  {
   "cell_type": "code",
   "execution_count": 17,
   "metadata": {
    "execution": {
     "iopub.execute_input": "2023-04-08T17:50:20.103665Z",
     "iopub.status.busy": "2023-04-08T17:50:20.103211Z",
     "iopub.status.idle": "2023-04-08T17:50:31.417246Z",
     "shell.execute_reply": "2023-04-08T17:50:31.415614Z",
     "shell.execute_reply.started": "2023-04-08T17:50:20.103622Z"
    }
   },
   "outputs": [],
   "source": [
    "\n",
    "import math\n",
    "from sklearn.preprocessing import LabelEncoder ,MinMaxScaler\n",
    "from sklearn.model_selection import train_test_split\n",
    "from sklearn import metrics\n",
    "from sklearn.feature_selection import RFE\n",
    "from sklearn.model_selection import GridSearchCV\n",
    "\n",
    "\n",
    "from deepctr_torch.inputs import SparseFeat, get_feature_names,DenseFeat\n",
    "from deepctr_torch.models import DeepFM\n",
    "import torch\n",
    "\n",
    "fixlen_feature_columns = [SparseFeat(feat, vocabulary_size=train[feat].max() + 1, embedding_dim=30)\n",
    "                              for feat in cat_features] + [DenseFeat(feat, 1, )\n",
    "                                                              for feat in continue_var]\n",
    "\n",
    "dnn_feature_columns = fixlen_feature_columns\n",
    "linear_feature_columns = fixlen_feature_columns\n",
    "\n",
    "feature_names = get_feature_names(\n",
    "        linear_feature_columns + dnn_feature_columns)\n",
    "feature_names\n",
    "\n",
    "\n",
    "train, test = train_test_split(train, test_size=0.2)\n",
    "train_model_input = {name: train[name] for name in feature_names}\n",
    "test_model_input = {name: test[name] for name in feature_names}\n",
    "train\n",
    "\n",
    "\n",
    "device = 'cpu'\n",
    "use_cuda = True\n",
    "if use_cuda and torch.cuda.is_available():\n",
    "        print('cuda ready...')\n",
    "        device = 'cuda:0'"
   ]
  },
  {
   "cell_type": "markdown",
   "metadata": {},
   "source": [
    "# DEEPFM"
   ]
  },
  {
   "cell_type": "code",
   "execution_count": 25,
   "metadata": {
    "execution": {
     "iopub.execute_input": "2023-04-08T17:57:05.024666Z",
     "iopub.status.busy": "2023-04-08T17:57:05.023769Z",
     "iopub.status.idle": "2023-04-08T17:57:44.595430Z",
     "shell.execute_reply": "2023-04-08T17:57:44.593881Z",
     "shell.execute_reply.started": "2023-04-08T17:57:05.024610Z"
    }
   },
   "outputs": [
    {
     "name": "stdout",
     "output_type": "stream",
     "text": [
      "cpu\n",
      "Train on 40000 samples, validate on 0 samples, 313 steps per epoch\n",
      "Epoch 1/10\n",
      "3s - loss:  0.3136 - binary_crossentropy:  0.3035 - auc:  0.9438\n",
      "Epoch 2/10\n",
      "3s - loss:  0.2748 - binary_crossentropy:  0.2627 - auc:  0.9593\n",
      "Epoch 3/10\n",
      "3s - loss:  0.2691 - binary_crossentropy:  0.2548 - auc:  0.9621\n",
      "Epoch 4/10\n",
      "3s - loss:  0.2657 - binary_crossentropy:  0.2494 - auc:  0.9637\n",
      "Epoch 5/10\n",
      "3s - loss:  0.2643 - binary_crossentropy:  0.2460 - auc:  0.9648\n",
      "Epoch 6/10\n",
      "3s - loss:  0.2638 - binary_crossentropy:  0.2438 - auc:  0.9656\n",
      "Epoch 7/10\n",
      "4s - loss:  0.2623 - binary_crossentropy:  0.2407 - auc:  0.9662\n",
      "Epoch 8/10\n",
      "3s - loss:  0.2587 - binary_crossentropy:  0.2364 - auc:  0.9671\n",
      "Epoch 9/10\n",
      "3s - loss:  0.2610 - binary_crossentropy:  0.2367 - auc:  0.9676\n",
      "Epoch 10/10\n",
      "3s - loss:  0.2586 - binary_crossentropy:  0.2337 - auc:  0.9682\n",
      "\n",
      "test LogLoss 0.2906\n",
      "test roc_auc_score 0.8813\n",
      "test f1 score 0.8822\n",
      "test precision score 0.885\n",
      "test recall score 0.8795\n",
      "test accuracy score 0.8813\n"
     ]
    }
   ],
   "source": [
    "\n",
    "\n",
    "target=label\n",
    "\n",
    "\n",
    "model = DeepFM(linear_feature_columns=linear_feature_columns, dnn_feature_columns=dnn_feature_columns,\n",
    "                   task='binary',dnn_hidden_units=(512,256),  l2_reg_linear=0.1,\n",
    "              dnn_use_bn=True,device=device,dnn_activation='relu', \n",
    "             l2_reg_dnn=0.2, l2_reg_embedding=1e-2, dnn_dropout=0.2)\n",
    "model.compile(\"adam\", \"binary_crossentropy\",\n",
    "                  metrics=[\"binary_crossentropy\", \"auc\"], )\n",
    "history = model.fit(train_model_input, train[label].values, batch_size=128, epochs=10, verbose=2\n",
    "                    )\n",
    "\n",
    "from sklearn.metrics import log_loss, roc_auc_score,accuracy_score\n",
    "from sklearn.metrics import f1_score\n",
    "from sklearn.metrics import cohen_kappa_score\n",
    "from sklearn.metrics import roc_auc_score,roc_curve\n",
    "import statsmodels.api as sm\n",
    "from sklearn.metrics import precision_score,recall_score\n",
    "pred_ans = model.predict(test_model_input, 256)\n",
    "ypred=[]\n",
    "for i in pred_ans:\n",
    "    ypred.append(round(i[0]))\n",
    "print(\"\")\n",
    "print(\"test LogLoss\", round(log_loss(test[target].values, pred_ans), 4))\n",
    "print(\"test roc_auc_score\", round(roc_auc_score(test[target].values, ypred), 4))\n",
    "print(\"test f1 score\", round(f1_score(test[target].values,ypred), 4))\n",
    "print(\"test precision score\", round(precision_score(test[target].values,ypred), 4))\n",
    "print(\"test recall score\", round(recall_score(test[target].values,ypred), 4))\n",
    "print(\"test accuracy score\", round(accuracy_score(test[target].values,ypred), 4))"
   ]
  },
  {
   "cell_type": "markdown",
   "metadata": {},
   "source": [
    "# xDeepFM"
   ]
  },
  {
   "cell_type": "code",
   "execution_count": 24,
   "metadata": {
    "execution": {
     "iopub.execute_input": "2023-04-08T17:55:08.218938Z",
     "iopub.status.busy": "2023-04-08T17:55:08.218454Z",
     "iopub.status.idle": "2023-04-08T17:57:05.020956Z",
     "shell.execute_reply": "2023-04-08T17:57:05.018318Z",
     "shell.execute_reply.started": "2023-04-08T17:55:08.218889Z"
    }
   },
   "outputs": [
    {
     "name": "stdout",
     "output_type": "stream",
     "text": [
      "cpu\n",
      "Train on 40000 samples, validate on 0 samples, 313 steps per epoch\n",
      "Epoch 1/8\n",
      "14s - loss:  0.3130 - binary_crossentropy:  0.3040\n",
      "Epoch 2/8\n",
      "14s - loss:  0.2705 - binary_crossentropy:  0.2613\n",
      "Epoch 3/8\n",
      "14s - loss:  0.2626 - binary_crossentropy:  0.2511\n",
      "Epoch 4/8\n",
      "14s - loss:  0.2586 - binary_crossentropy:  0.2452\n",
      "Epoch 5/8\n",
      "14s - loss:  0.2565 - binary_crossentropy:  0.2418\n",
      "Epoch 6/8\n",
      "14s - loss:  0.2548 - binary_crossentropy:  0.2392\n",
      "Epoch 7/8\n",
      "13s - loss:  0.2517 - binary_crossentropy:  0.2344\n",
      "Epoch 8/8\n",
      "14s - loss:  0.2508 - binary_crossentropy:  0.2323\n",
      "\n",
      "test LogLoss 0.2896\n",
      "test roc_auc_score 0.879\n",
      "test f1 score 0.8762\n",
      "test precision score 0.9053\n",
      "test recall score 0.8489\n",
      "test accuracy score 0.8787\n"
     ]
    }
   ],
   "source": [
    "\n",
    "\n",
    "from deepctr_torch.models import xDeepFM\n",
    "model =  xDeepFM(linear_feature_columns=linear_feature_columns, dnn_feature_columns=dnn_feature_columns,\n",
    "                   task='binary',dnn_hidden_units=(512,256),  l2_reg_linear=0.1,\n",
    "              dnn_use_bn=True,device=device,dnn_activation='relu', \n",
    "             l2_reg_dnn=0.2, l2_reg_embedding=1e-2, dnn_dropout=0.2)\n",
    "model.compile(\"adam\", \"binary_crossentropy\",\n",
    "                  metrics=[\"binary_crossentropy\", \"auc\"], )\n",
    "history = model.fit(train_model_input, train[label].values, batch_size=128, epochs=8, verbose=2\n",
    "                      )\n",
    "\n",
    "from sklearn.metrics import log_loss, roc_auc_score,accuracy_score\n",
    "from sklearn.metrics import f1_score\n",
    "from sklearn.metrics import cohen_kappa_score\n",
    "from sklearn.metrics import roc_auc_score,roc_curve\n",
    "import statsmodels.api as sm\n",
    "from sklearn.metrics import precision_score,recall_score\n",
    "pred_ans = model.predict(test_model_input, 256)\n",
    "ypred=[]\n",
    "for i in pred_ans:\n",
    "    ypred.append(round(i[0]))\n",
    "print(\"\")\n",
    "print(\"test LogLoss\", round(log_loss(test[target].values, pred_ans), 4))\n",
    "print(\"test roc_auc_score\", round(roc_auc_score(test[target].values, ypred), 4))\n",
    "print(\"test f1 score\", round(f1_score(test[target].values,ypred), 4))\n",
    "print(\"test precision score\", round(precision_score(test[target].values,ypred), 4))\n",
    "print(\"test recall score\", round(recall_score(test[target].values,ypred), 4))\n",
    "print(\"test accuracy score\", round(accuracy_score(test[target].values,ypred), 4))"
   ]
  },
  {
   "cell_type": "markdown",
   "metadata": {},
   "source": [
    "# Wide & Deep"
   ]
  },
  {
   "cell_type": "code",
   "execution_count": 26,
   "metadata": {
    "execution": {
     "iopub.execute_input": "2023-04-08T17:57:44.597181Z",
     "iopub.status.busy": "2023-04-08T17:57:44.596852Z",
     "iopub.status.idle": "2023-04-08T17:58:08.972227Z",
     "shell.execute_reply": "2023-04-08T17:58:08.970708Z",
     "shell.execute_reply.started": "2023-04-08T17:57:44.597150Z"
    }
   },
   "outputs": [
    {
     "name": "stdout",
     "output_type": "stream",
     "text": [
      "cpu\n",
      "Train on 40000 samples, validate on 0 samples, 313 steps per epoch\n",
      "Epoch 1/8\n",
      "2s - loss:  0.3084 - binary_crossentropy:  0.3080\n",
      "Epoch 2/8\n",
      "3s - loss:  0.2638 - binary_crossentropy:  0.2626\n",
      "Epoch 3/8\n",
      "2s - loss:  0.2525 - binary_crossentropy:  0.2509\n",
      "Epoch 4/8\n",
      "2s - loss:  0.2455 - binary_crossentropy:  0.2433\n",
      "Epoch 5/8\n",
      "3s - loss:  0.2377 - binary_crossentropy:  0.2352\n",
      "Epoch 6/8\n",
      "3s - loss:  0.2305 - binary_crossentropy:  0.2275\n",
      "Epoch 7/8\n",
      "3s - loss:  0.2265 - binary_crossentropy:  0.2233\n",
      "Epoch 8/8\n",
      "2s - loss:  0.2217 - binary_crossentropy:  0.2180\n",
      "\n",
      "test LogLoss 0.2958\n",
      "test roc_auc_score 0.8819\n",
      "test f1 score 0.8834\n",
      "test precision score 0.8816\n",
      "test recall score 0.8853\n",
      "test accuracy score 0.8819\n"
     ]
    }
   ],
   "source": [
    "\n",
    "\n",
    "from deepctr_torch.models import WDL\n",
    "model =  WDL(linear_feature_columns=linear_feature_columns, dnn_feature_columns=dnn_feature_columns,\n",
    "                   task='binary',dnn_hidden_units=(512,256),  l2_reg_linear=0.1,\n",
    "                   dnn_use_bn=True,device=device,dnn_activation='relu', \n",
    "             l2_reg_dnn=0, l2_reg_embedding=1e-2, dnn_dropout=0)\n",
    "model.compile(\"adam\", \"binary_crossentropy\",\n",
    "                  metrics=[\"binary_crossentropy\", \"auroc\"], )\n",
    "history = model.fit(train_model_input, train[target].values, batch_size=128, epochs=8, verbose=2,\n",
    "                )\n",
    "\n",
    "from sklearn.metrics import log_loss, roc_auc_score,accuracy_score\n",
    "from sklearn.metrics import f1_score\n",
    "from sklearn.metrics import cohen_kappa_score\n",
    "from sklearn.metrics import roc_auc_score,roc_curve\n",
    "import statsmodels.api as sm\n",
    "from sklearn.metrics import precision_score,recall_score\n",
    "pred_ans = model.predict(test_model_input, 256)\n",
    "ypred=[]\n",
    "for i in pred_ans:\n",
    "    ypred.append(round(i[0]))\n",
    "print(\"\")\n",
    "print(\"test LogLoss\", round(log_loss(test[target].values, pred_ans), 4))\n",
    "print(\"test roc_auc_score\", round(roc_auc_score(test[target].values, ypred), 4))\n",
    "print(\"test f1 score\", round(f1_score(test[target].values,ypred), 4))\n",
    "print(\"test precision score\", round(precision_score(test[target].values,ypred), 4))\n",
    "print(\"test recall score\", round(recall_score(test[target].values,ypred), 4))\n",
    "print(\"test accuracy score\", round(accuracy_score(test[target].values,ypred), 4))"
   ]
  },
  {
   "cell_type": "markdown",
   "metadata": {},
   "source": [
    "#  Improved Deep Cross "
   ]
  },
  {
   "cell_type": "code",
   "execution_count": 27,
   "metadata": {
    "execution": {
     "iopub.execute_input": "2023-04-08T17:58:08.975202Z",
     "iopub.status.busy": "2023-04-08T17:58:08.974834Z",
     "iopub.status.idle": "2023-04-08T17:59:04.505573Z",
     "shell.execute_reply": "2023-04-08T17:59:04.504143Z",
     "shell.execute_reply.started": "2023-04-08T17:58:08.975167Z"
    }
   },
   "outputs": [
    {
     "name": "stdout",
     "output_type": "stream",
     "text": [
      "cpu\n",
      "Train on 40000 samples, validate on 0 samples, 313 steps per epoch\n",
      "Epoch 1/8\n",
      "6s - loss:  0.3046 - binary_crossentropy:  0.3040 - auc:  0.9432\n",
      "Epoch 2/8\n",
      "6s - loss:  0.2655 - binary_crossentropy:  0.2640 - auc:  0.9590\n",
      "Epoch 3/8\n",
      "6s - loss:  0.2550 - binary_crossentropy:  0.2531 - auc:  0.9617\n",
      "Epoch 4/8\n",
      "7s - loss:  0.2465 - binary_crossentropy:  0.2440 - auc:  0.9644\n",
      "Epoch 5/8\n",
      "6s - loss:  0.2399 - binary_crossentropy:  0.2366 - auc:  0.9663\n",
      "Epoch 6/8\n",
      "7s - loss:  0.2354 - binary_crossentropy:  0.2318 - auc:  0.9677\n",
      "Epoch 7/8\n",
      "6s - loss:  0.2310 - binary_crossentropy:  0.2269 - auc:  0.9692\n",
      "Epoch 8/8\n",
      "6s - loss:  0.2262 - binary_crossentropy:  0.2217 - auc:  0.9707\n",
      "\n",
      "test LogLoss 0.2907\n",
      "test roc_auc_score 0.8811\n",
      "test f1 score 0.8843\n",
      "test precision score 0.8719\n",
      "test recall score 0.8969\n",
      "test accuracy score 0.8813\n"
     ]
    }
   ],
   "source": [
    "\n",
    "\n",
    "from deepctr_torch.models import DCNMix\n",
    "model =  DCNMix(linear_feature_columns=linear_feature_columns, dnn_feature_columns=dnn_feature_columns,\n",
    "                   task='binary',dnn_hidden_units=(512,256),  l2_reg_linear=0.1, dnn_use_bn=True,device=device,\n",
    "             dnn_activation='relu', \n",
    "             l2_reg_dnn=0, l2_reg_embedding=1e-2, dnn_dropout=0)\n",
    "model.compile(\"adam\", \"binary_crossentropy\",\n",
    "                  metrics=[\"binary_crossentropy\", \"auc\"], )\n",
    "history = model.fit(train_model_input, train[target].values, batch_size=128, epochs=8, verbose=2,\n",
    "                       )\n",
    "\n",
    "from sklearn.metrics import log_loss, roc_auc_score,accuracy_score\n",
    "from sklearn.metrics import f1_score\n",
    "from sklearn.metrics import cohen_kappa_score\n",
    "from sklearn.metrics import roc_auc_score,roc_curve\n",
    "import statsmodels.api as sm\n",
    "from sklearn.metrics import precision_score,recall_score\n",
    "pred_ans = model.predict(test_model_input, 256)\n",
    "ypred=[]\n",
    "for i in pred_ans:\n",
    "    ypred.append(round(i[0]))\n",
    "print(\"\")\n",
    "print(\"test LogLoss\", round(log_loss(test[target].values, pred_ans), 4))\n",
    "print(\"test roc_auc_score\", round(roc_auc_score(test[target].values, ypred), 4))\n",
    "print(\"test f1 score\", round(f1_score(test[target].values,ypred), 4))\n",
    "print(\"test precision score\", round(precision_score(test[target].values,ypred), 4))\n",
    "print(\"test recall score\", round(recall_score(test[target].values,ypred), 4))\n",
    "print(\"test accuracy score\", round(accuracy_score(test[target].values,ypred), 4))"
   ]
  }
 ],
 "metadata": {
  "kernelspec": {
   "display_name": "Python 3 (ipykernel)",
   "language": "python",
   "name": "python3"
  },
  "language_info": {
   "codemirror_mode": {
    "name": "ipython",
    "version": 3
   },
   "file_extension": ".py",
   "mimetype": "text/x-python",
   "name": "python",
   "nbconvert_exporter": "python",
   "pygments_lexer": "ipython3",
   "version": "3.10.6"
  }
 },
 "nbformat": 4,
 "nbformat_minor": 4
}
